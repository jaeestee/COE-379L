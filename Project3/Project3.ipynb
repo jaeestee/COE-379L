{
 "cells": [
  {
   "cell_type": "code",
   "execution_count": 1,
   "id": "cae78bf6-bd91-4dde-b41b-21f38353d49b",
   "metadata": {},
   "outputs": [],
   "source": [
    "#Data Prep Stage\n",
    "import numpy as np\n",
    "import shutil\n"
   ]
  },
  {
   "cell_type": "code",
   "execution_count": 2,
   "id": "659b7778-d2fe-4a15-9094-d5d459f67574",
   "metadata": {},
   "outputs": [],
   "source": [
    "#make sure the directory is clean \n",
    "try:\n",
    "    shutil.rmtree(\"../Project3_data/cnn-split/train\")\n",
    "    shutil.rmtree(\"../Project3_data/cnn-split/test\")\n",
    "except:\n",
    "    pass"
   ]
  },
  {
   "cell_type": "code",
   "execution_count": 3,
   "id": "95aef040-7205-45c1-9824-d975b45db7eb",
   "metadata": {},
   "outputs": [],
   "source": [
    "#create directories for each class in the train and test directories.\n",
    "import os\n",
    "# ensure directories exist\n",
    "from pathlib import Path\n",
    "\n",
    "\n",
    "Path(\"../Project3/cnn-split/train/no_damage\").mkdir(parents=True, exist_ok=True)\n",
    "Path(\"../Project3/cnn-split/train/damage\").mkdir(parents=True, exist_ok=True)\n",
    "\n",
    "Path(\"../Project3/cnn-split/test/no_damage\").mkdir(parents=True, exist_ok=True)\n",
    "Path(\"../Project3/cnn-split/test/damage\").mkdir(parents=True, exist_ok=True)"
   ]
  },
  {
   "cell_type": "code",
   "execution_count": 4,
   "id": "9f9ffdd2-4b90-4582-9c76-4de973c6a411",
   "metadata": {},
   "outputs": [],
   "source": [
    "all_no_damage = os.listdir('../Project3/data_all_modified/no_damage')\n",
    "all_damage = os.listdir('../Project3/data_all_modified/damage')"
   ]
  },
  {
   "cell_type": "code",
   "execution_count": 5,
   "id": "c28c1653-2f85-4cb9-98d3-453b1879b702",
   "metadata": {},
   "outputs": [
    {
     "name": "stdout",
     "output_type": "stream",
     "text": [
      "train no_damage image count:  5721\n",
      "test no_damage image count:  1431\n",
      "len of overlap:  0\n",
      "train damage image count:  11336\n",
      "test damage image count:  2834\n",
      "len of overlap:  0\n"
     ]
    }
   ],
   "source": [
    "import random\n",
    "\n",
    "train_no_damage = random.sample(all_no_damage, int(len(all_no_damage)*0.8))\n",
    "print(\"train no_damage image count: \", len(train_no_damage))\n",
    "test_no_damage = [ p for p in all_no_damage if p not in train_no_damage]\n",
    "print(\"test no_damage image count: \", len(test_no_damage))\n",
    "# ensure no overlap:\n",
    "overlap = [p for p in train_no_damage if p in test_no_damage]\n",
    "print(\"len of overlap: \", len(overlap))\n",
    "\n",
    "\n",
    "train_damage = random.sample(all_damage, int(len(all_damage)*0.8))\n",
    "print(\"train damage image count: \", len(train_damage))\n",
    "test_damage = [ p for p in all_damage if p not in train_damage]\n",
    "print(\"test damage image count: \", len(test_damage))\n",
    "# ensure no overlap:\n",
    "overlap = [p for p in train_damage if p in test_damage]\n",
    "print(\"len of overlap: \", len(overlap))"
   ]
  },
  {
   "cell_type": "code",
   "execution_count": 6,
   "id": "dd8a3997-b613-4ed7-b5c4-bb51542df235",
   "metadata": {},
   "outputs": [],
   "source": [
    "# ensure to copy the images to the directories\n",
    "for p in train_no_damage:\n",
    "    shutil.copyfile(os.path.join('../Project3/data_all_modified/no_damage', p), os.path.join('../Project3/cnn-split/train/no_damage', p) )\n",
    "\n",
    "for p in test_no_damage:\n",
    "    shutil.copyfile(os.path.join('../Project3/data_all_modified/no_damage', p), os.path.join('../Project3/cnn-split/test/no_damage', p) )\n",
    "\n",
    "for p in train_damage:\n",
    "    shutil.copyfile(os.path.join('../Project3/data_all_modified/damage', p), os.path.join('../Project3/cnn-split/train/damage', p) )\n",
    "\n",
    "for p in test_damage:\n",
    "    shutil.copyfile(os.path.join('../Project3/data_all_modified/damage', p), os.path.join('../Project3/cnn-split/test/damage', p) )"
   ]
  },
  {
   "cell_type": "code",
   "execution_count": 7,
   "id": "f9d6c6b6-97ef-49c9-941c-3027343625c4",
   "metadata": {},
   "outputs": [
    {
     "name": "stdout",
     "output_type": "stream",
     "text": [
      "Files in train/no_damage:  6870\n",
      "Files in train/damage:  13599\n",
      "Files in test/no_damage:  2580\n",
      "Files in test/damage:  5097\n"
     ]
    }
   ],
   "source": [
    "# check counts:\n",
    "print(\"Files in train/no_damage: \", len(os.listdir(\"../Project3/cnn-split/train/no_damage\")))\n",
    "print(\"Files in train/damage: \", len(os.listdir(\"../Project3/cnn-split/train/damage\")))\n",
    "\n",
    "print(\"Files in test/no_damage: \", len(os.listdir(\"../Project3/cnn-split/test/no_damage\")))\n",
    "print(\"Files in test/damage: \", len(os.listdir(\"../Project3/cnn-split/test/damage\")))"
   ]
  },
  {
   "cell_type": "code",
   "execution_count": 10,
   "id": "bcda67a6-039e-4719-889d-60655e2e59d2",
   "metadata": {},
   "outputs": [
    {
     "name": "stdout",
     "output_type": "stream",
     "text": [
      "Found 20469 files belonging to 2 classes.\n",
      "Using 16376 files for training.\n",
      "Using 4093 files for validation.\n"
     ]
    }
   ],
   "source": [
    "#Train preprocessing\n",
    "import tensorflow as tf\n",
    "import tensorflow_datasets as tfds\n",
    "from tensorflow.keras.layers.experimental.preprocessing import Rescaling\n",
    "train_data_dir = '../Project3/cnn-split/train'\n",
    "\n",
    "batch_size = 32\n",
    "# target image size\n",
    "img_height = 150\n",
    "img_width = 150\n",
    "\n",
    "# note that subset=\"training\", \"validation\", \"both\", and dictates which dataset is returned\n",
    "train_ds, val_ds = tf.keras.utils.image_dataset_from_directory(\n",
    "train_data_dir,\n",
    "validation_split=0.2,\n",
    "subset=\"both\",\n",
    "seed=123,\n",
    "image_size=(img_height, img_width),\n",
    "batch_size=batch_size\n",
    ")\n",
    "rescale = Rescaling(scale=1.0/255)\n",
    "train_rescale_ds = train_ds.map(lambda image,label:(rescale(image),label))\n",
    "val_rescale_ds = val_ds.map(lambda image,label:(rescale(image),label))"
   ]
  },
  {
   "cell_type": "code",
   "execution_count": 11,
   "id": "555e69bf-a705-4635-9b79-50beeb2174d1",
   "metadata": {},
   "outputs": [
    {
     "name": "stdout",
     "output_type": "stream",
     "text": [
      "Found 7677 files belonging to 2 classes.\n"
     ]
    }
   ],
   "source": [
    "#Test preprocessing\n",
    "test_data_dir = '../Project3/cnn-split/test/'\n",
    "\n",
    "batch_size = 2\n",
    "\n",
    "# this is what was used in the paper --\n",
    "img_height = 150\n",
    "img_width = 150\n",
    "\n",
    "# note that subset=\"training\", \"validation\", \"both\", and dictates what is returned\n",
    "test_ds = tf.keras.utils.image_dataset_from_directory(\n",
    "test_data_dir,\n",
    "seed=123,\n",
    "image_size=(img_height, img_width),\n",
    ")\n",
    "\n",
    "# approach 1: manually rescale data --\n",
    "rescale = Rescaling(scale=1.0/255)\n",
    "test_rescale_ds = test_ds.map(lambda image,label:(rescale(image),label))"
   ]
  },
  {
   "cell_type": "code",
   "execution_count": 16,
   "id": "da8de5a1-11ac-49a0-a4b1-3a2b66c3ccbf",
   "metadata": {},
   "outputs": [],
   "source": [
    "#Imports\n",
    "from keras import layers\n",
    "from keras import models\n",
    "import pandas as pd\n",
    "from keras import optimizers"
   ]
  },
  {
   "cell_type": "code",
   "execution_count": 19,
   "id": "0dde6430-80aa-4f25-b906-e0f88cebf99e",
   "metadata": {},
   "outputs": [
    {
     "name": "stdout",
     "output_type": "stream",
     "text": [
      "Model: \"sequential_3\"\n",
      "_________________________________________________________________\n",
      " Layer (type)                Output Shape              Param #   \n",
      "=================================================================\n",
      " flatten_1 (Flatten)         (None, 67500)             0         \n",
      "                                                                 \n",
      " dense_1 (Dense)             (None, 512)               34560512  \n",
      "                                                                 \n",
      " dense_2 (Dense)             (None, 256)               131328    \n",
      "                                                                 \n",
      " dense_3 (Dense)             (None, 1)                 257       \n",
      "                                                                 \n",
      "=================================================================\n",
      "Total params: 34692097 (132.34 MB)\n",
      "Trainable params: 34692097 (132.34 MB)\n",
      "Non-trainable params: 0 (0.00 Byte)\n",
      "_________________________________________________________________\n"
     ]
    }
   ],
   "source": [
    "# Intializing a A dense (i.e., fully connected) ANN sequential model for Part 2 A\n",
    "model_ann = models.Sequential()\n",
    "\n",
    "model_ann.add(layers.Flatten(input_shape=(img_width, img_height, 3)))\n",
    "\n",
    "model_ann.add(layers.Dense(512, activation='relu'))  \n",
    "model_ann.add(layers.Dense(256, activation='relu'))  \n",
    "model_ann.add(layers.Dense(1, activation='sigmoid'))  \n",
    "\n",
    "# Compile model\n",
    "# RMSprop (Root Mean Square Propagation) is commonly used in training deep neural networks.\n",
    "model_ann.compile(optimizer='adam', loss='binary_crossentropy', metrics=['accuracy'])\n",
    "\n",
    "# Generating the summary of the model\n",
    "model_ann.summary()"
   ]
  },
  {
   "cell_type": "code",
   "execution_count": 20,
   "id": "bf096c9c-dc46-408b-94cf-56e17db86eff",
   "metadata": {},
   "outputs": [
    {
     "name": "stdout",
     "output_type": "stream",
     "text": [
      "Epoch 1/10\n",
      "512/512 [==============================] - 91s 175ms/step - loss: 1.1703 - accuracy: 0.6500 - val_loss: 0.5653 - val_accuracy: 0.7315\n",
      "Epoch 2/10\n",
      "512/512 [==============================] - 107s 209ms/step - loss: 0.6062 - accuracy: 0.6860 - val_loss: 0.5925 - val_accuracy: 0.6518\n",
      "Epoch 3/10\n",
      "512/512 [==============================] - 106s 206ms/step - loss: 0.5866 - accuracy: 0.6830 - val_loss: 0.6339 - val_accuracy: 0.5710\n",
      "Epoch 4/10\n",
      "512/512 [==============================] - 107s 209ms/step - loss: 0.5882 - accuracy: 0.6916 - val_loss: 0.6280 - val_accuracy: 0.6330\n",
      "Epoch 5/10\n",
      "512/512 [==============================] - 105s 205ms/step - loss: 0.5756 - accuracy: 0.7145 - val_loss: 0.5764 - val_accuracy: 0.7090\n",
      "Epoch 6/10\n",
      "512/512 [==============================] - 109s 213ms/step - loss: 0.5757 - accuracy: 0.7182 - val_loss: 0.5609 - val_accuracy: 0.7334\n",
      "Epoch 7/10\n",
      "512/512 [==============================] - 107s 209ms/step - loss: 0.5895 - accuracy: 0.6996 - val_loss: 0.5727 - val_accuracy: 0.7269\n",
      "Epoch 8/10\n",
      "512/512 [==============================] - 106s 207ms/step - loss: 0.5866 - accuracy: 0.7030 - val_loss: 0.6312 - val_accuracy: 0.6545\n",
      "Epoch 9/10\n",
      "512/512 [==============================] - 102s 200ms/step - loss: 0.5833 - accuracy: 0.7018 - val_loss: 0.5677 - val_accuracy: 0.7376\n",
      "Epoch 10/10\n",
      "512/512 [==============================] - 105s 204ms/step - loss: 0.5717 - accuracy: 0.7209 - val_loss: 0.5789 - val_accuracy: 0.7437\n"
     ]
    }
   ],
   "source": [
    "#fit the model from image generator\n",
    "history = model_ann.fit(\n",
    "            train_rescale_ds,\n",
    "            epochs=10,\n",
    "            validation_data=val_rescale_ds\n",
    ")"
   ]
  },
  {
   "cell_type": "code",
   "execution_count": 21,
   "id": "77dc7c75-59df-4070-abdc-233a6ff72ed1",
   "metadata": {},
   "outputs": [
    {
     "data": {
      "text/plain": [
       "0.7545916438102722"
      ]
     },
     "execution_count": 21,
     "metadata": {},
     "output_type": "execute_result"
    }
   ],
   "source": [
    "#Testing accuracy of the high density model\n",
    "test_loss, test_accuracy = model_ann.evaluate(test_rescale_ds, verbose=0)\n",
    "test_accuracy"
   ]
  },
  {
   "cell_type": "code",
   "execution_count": 23,
   "id": "1b07a9b1-89f3-4027-8698-a21bfd1d70e3",
   "metadata": {},
   "outputs": [],
   "source": [
    "#persistance of the model for future use\n",
    "model_ann.save(\"ANN.keras\")"
   ]
  },
  {
   "cell_type": "code",
   "execution_count": 29,
   "id": "ab74f66b-d8f2-4a03-b719-067acbf1f6fc",
   "metadata": {},
   "outputs": [
    {
     "name": "stdout",
     "output_type": "stream",
     "text": [
      "Model: \"sequential_6\"\n",
      "_________________________________________________________________\n",
      " Layer (type)                Output Shape              Param #   \n",
      "=================================================================\n",
      " conv2d_17 (Conv2D)          (None, 148, 148, 6)       168       \n",
      "                                                                 \n",
      " average_pooling2d_2 (Avera  (None, 74, 74, 6)         0         \n",
      " gePooling2D)                                                    \n",
      "                                                                 \n",
      " conv2d_18 (Conv2D)          (None, 72, 72, 16)        880       \n",
      "                                                                 \n",
      " average_pooling2d_3 (Avera  (None, 36, 36, 16)        0         \n",
      " gePooling2D)                                                    \n",
      "                                                                 \n",
      " flatten_6 (Flatten)         (None, 20736)             0         \n",
      "                                                                 \n",
      " dense_18 (Dense)            (None, 120)               2488440   \n",
      "                                                                 \n",
      " dense_19 (Dense)            (None, 84)                10164     \n",
      "                                                                 \n",
      " dense_20 (Dense)            (None, 2)                 170       \n",
      "                                                                 \n",
      "=================================================================\n",
      "Total params: 2499822 (9.54 MB)\n",
      "Trainable params: 2499822 (9.54 MB)\n",
      "Non-trainable params: 0 (0.00 Byte)\n",
      "_________________________________________________________________\n"
     ]
    }
   ],
   "source": [
    "#lenet-5 model\n",
    "\n",
    "model_lenet5 = models.Sequential()\n",
    "\n",
    "# Layer 1: Convolutional layer with 6 filters of size 3x3, followed by average pooling\n",
    "model_lenet5.add(layers.Conv2D(6, kernel_size=(3, 3), activation='relu', input_shape=(150,150,3)))\n",
    "model_lenet5.add(layers.AveragePooling2D(pool_size=(2, 2)))\n",
    "\n",
    "# Layer 2: Convolutional layer with 16 filters of size 3x3, followed by average pooling\n",
    "model_lenet5.add(layers.Conv2D(16, kernel_size=(3, 3), activation='relu'))\n",
    "model_lenet5.add(layers.AveragePooling2D(pool_size=(2, 2)))\n",
    "\n",
    "# Flatten the feature maps to feed into fully connected layers\n",
    "model_lenet5.add(layers.Flatten())\n",
    "\n",
    "\n",
    "# Layer 3: Fully connected layer with 120 neurons\n",
    "model_lenet5.add(layers.Dense(120, activation='relu'))\n",
    "\n",
    "# Layer 4: Fully connected layer with 84 neurons\n",
    "model_lenet5.add(layers.Dense(84, activation='relu'))\n",
    "\n",
    "# Output layer: Fully connected layer with num_classes neurons (e.g., 3 )\n",
    "model_lenet5.add(layers.Dense(2, activation='softmax'))\n",
    "\n",
    "# Compile model\n",
    "model_lenet5.compile(optimizer=optimizers.RMSprop(learning_rate=1e-4), loss='sparse_categorical_crossentropy', metrics=['accuracy'])\n",
    "\n",
    "# Generating the summary of the model\n",
    "model_lenet5.summary()"
   ]
  },
  {
   "cell_type": "code",
   "execution_count": 30,
   "id": "5fe37228-67f7-4692-b136-f6bfb31520c2",
   "metadata": {},
   "outputs": [
    {
     "name": "stdout",
     "output_type": "stream",
     "text": [
      "Epoch 1/10\n",
      "427/427 [==============================] - 36s 82ms/step - loss: 0.6045 - accuracy: 0.6907 - val_loss: 0.5365 - val_accuracy: 0.7707\n",
      "Epoch 2/10\n",
      "427/427 [==============================] - 35s 83ms/step - loss: 0.4910 - accuracy: 0.7839 - val_loss: 0.4844 - val_accuracy: 0.8036\n",
      "Epoch 3/10\n",
      "427/427 [==============================] - 35s 82ms/step - loss: 0.4074 - accuracy: 0.8278 - val_loss: 0.3673 - val_accuracy: 0.8537\n",
      "Epoch 4/10\n",
      "427/427 [==============================] - 35s 81ms/step - loss: 0.3758 - accuracy: 0.8493 - val_loss: 0.3481 - val_accuracy: 0.8578\n",
      "Epoch 5/10\n",
      "427/427 [==============================] - 34s 80ms/step - loss: 0.3517 - accuracy: 0.8597 - val_loss: 0.3477 - val_accuracy: 0.8561\n",
      "Epoch 6/10\n",
      "427/427 [==============================] - 34s 80ms/step - loss: 0.3293 - accuracy: 0.8690 - val_loss: 0.4642 - val_accuracy: 0.7986\n",
      "Epoch 7/10\n",
      "427/427 [==============================] - 35s 82ms/step - loss: 0.3136 - accuracy: 0.8777 - val_loss: 0.4191 - val_accuracy: 0.8285\n",
      "Epoch 8/10\n",
      "427/427 [==============================] - 35s 81ms/step - loss: 0.2956 - accuracy: 0.8878 - val_loss: 0.3196 - val_accuracy: 0.8739\n",
      "Epoch 9/10\n",
      "427/427 [==============================] - 36s 83ms/step - loss: 0.2825 - accuracy: 0.8900 - val_loss: 0.2928 - val_accuracy: 0.8827\n",
      "Epoch 10/10\n",
      "427/427 [==============================] - 35s 81ms/step - loss: 0.2708 - accuracy: 0.8961 - val_loss: 0.2691 - val_accuracy: 0.8930\n"
     ]
    }
   ],
   "source": [
    "#fit the model from image generator\n",
    "history = model_lenet5.fit(\n",
    "            train_rescale_ds,\n",
    "            batch_size=32,\n",
    "            epochs=10,\n",
    "            validation_data=val_rescale_ds\n",
    ")"
   ]
  },
  {
   "cell_type": "code",
   "execution_count": 32,
   "id": "d287d14f-f066-4056-8cc0-743ac075a7b2",
   "metadata": {},
   "outputs": [
    {
     "data": {
      "text/plain": [
       "0.8991793394088745"
      ]
     },
     "execution_count": 32,
     "metadata": {},
     "output_type": "execute_result"
    }
   ],
   "source": [
    "#Testing accuracy of the high density model\n",
    "test_loss, test_accuracy = model_lenet5.evaluate(test_rescale_ds, verbose=0)\n",
    "test_accuracy"
   ]
  },
  {
   "cell_type": "code",
   "execution_count": 33,
   "id": "f9aa10de-1127-47da-89f6-170f354cb93a",
   "metadata": {},
   "outputs": [],
   "source": [
    "#persistance of the model for future use\n",
    "model_lenet5.save(\"lenet5.keras\")"
   ]
  },
  {
   "cell_type": "code",
   "execution_count": 43,
   "id": "b1834d30-8bb1-4246-8453-95bb91740b64",
   "metadata": {},
   "outputs": [
    {
     "name": "stdout",
     "output_type": "stream",
     "text": [
      "Model: \"sequential_13\"\n",
      "_________________________________________________________________\n",
      " Layer (type)                Output Shape              Param #   \n",
      "=================================================================\n",
      " conv2d_43 (Conv2D)          (None, 150, 150, 32)      896       \n",
      "                                                                 \n",
      " max_pooling2d_39 (MaxPooli  (None, 75, 75, 32)        0         \n",
      " ng2D)                                                           \n",
      "                                                                 \n",
      " conv2d_44 (Conv2D)          (None, 75, 75, 64)        18496     \n",
      "                                                                 \n",
      " max_pooling2d_40 (MaxPooli  (None, 38, 38, 64)        0         \n",
      " ng2D)                                                           \n",
      "                                                                 \n",
      " conv2d_45 (Conv2D)          (None, 38, 38, 128)       73856     \n",
      "                                                                 \n",
      " max_pooling2d_41 (MaxPooli  (None, 19, 19, 128)       0         \n",
      " ng2D)                                                           \n",
      "                                                                 \n",
      " conv2d_46 (Conv2D)          (None, 19, 19, 128)       147584    \n",
      "                                                                 \n",
      " max_pooling2d_42 (MaxPooli  (None, 10, 10, 128)       0         \n",
      " ng2D)                                                           \n",
      "                                                                 \n",
      " flatten_13 (Flatten)        (None, 12800)             0         \n",
      "                                                                 \n",
      " dropout_6 (Dropout)         (None, 12800)             0         \n",
      "                                                                 \n",
      " dense_33 (Dense)            (None, 512)               6554112   \n",
      "                                                                 \n",
      " dense_34 (Dense)            (None, 1)                 513       \n",
      "                                                                 \n",
      "=================================================================\n",
      "Total params: 6795457 (25.92 MB)\n",
      "Trainable params: 6795457 (25.92 MB)\n",
      "Non-trainable params: 0 (0.00 Byte)\n",
      "_________________________________________________________________\n"
     ]
    }
   ],
   "source": [
    "#Model From Paper\n",
    "# Intializing a sequential model\n",
    "model_cnn2 = models.Sequential()\n",
    "\n",
    "model_cnn2.add(layers.Conv2D(32, (3, 3), activation='relu', padding=\"same\", input_shape=(150,150,3)))\n",
    "\n",
    "# Adding max pooling to reduce the size of output of first conv layer\n",
    "model_cnn2.add(layers.MaxPooling2D((2, 2), padding = 'same'))\n",
    "\n",
    "model_cnn2.add(layers.Conv2D(64, (3, 3), activation='relu', padding=\"same\"))\n",
    "model_cnn2.add(layers.MaxPooling2D((2, 2), padding = 'same'))\n",
    "\n",
    "model_cnn2.add(layers.Conv2D(128, (3, 3), activation='relu', padding=\"same\"))\n",
    "model_cnn2.add(layers.MaxPooling2D((2, 2), padding = 'same'))\n",
    "\n",
    "model_cnn2.add(layers.Conv2D(128, (3, 3), activation='relu', padding=\"same\"))\n",
    "model_cnn2.add(layers.MaxPooling2D((2, 2), padding = 'same'))\n",
    "\n",
    "# flattening the output of the conv layer after max pooling to make it ready for creating dense connections\n",
    "model_cnn2.add(layers.Flatten())\n",
    "\n",
    "#Adding dropout for regularization\n",
    "model_cnn2.add(layers.Dropout(.5))\n",
    "\n",
    "# Adding a fully connected dense layer with 512 neurons\n",
    "model_cnn2.add(layers.Dense(512, activation='relu'))\n",
    "\n",
    "# Adding a fully connected dense layer with one neuron for binary classification\n",
    "model_cnn2.add(layers.Dense(1, activation='sigmoid'))\n",
    "\n",
    "# Compile model\n",
    "# RMSprop (Root Mean Square Propagation) is commonly used in training deep neural networks.\n",
    "model_cnn2.compile(optimizer='rmsprop', loss='binary_crossentropy', metrics=['accuracy'])\n",
    "\n",
    "# Generating the summary of the model\n",
    "model_cnn2.summary()"
   ]
  },
  {
   "cell_type": "code",
   "execution_count": 44,
   "id": "0edc6e49-1458-4eea-aaea-f69a8128e585",
   "metadata": {},
   "outputs": [
    {
     "name": "stdout",
     "output_type": "stream",
     "text": [
      "Epoch 1/5\n",
      "427/427 [==============================] - 152s 354ms/step - loss: 0.4949 - accuracy: 0.7618 - val_loss: 0.2211 - val_accuracy: 0.9211\n",
      "Epoch 2/5\n",
      "427/427 [==============================] - 150s 350ms/step - loss: 0.2345 - accuracy: 0.9080 - val_loss: 0.1513 - val_accuracy: 0.9440\n",
      "Epoch 3/5\n",
      "427/427 [==============================] - 150s 351ms/step - loss: 0.1866 - accuracy: 0.9327 - val_loss: 0.1291 - val_accuracy: 0.9490\n",
      "Epoch 4/5\n",
      "427/427 [==============================] - 152s 355ms/step - loss: 0.1577 - accuracy: 0.9410 - val_loss: 0.1030 - val_accuracy: 0.9622\n",
      "Epoch 5/5\n",
      "427/427 [==============================] - 149s 349ms/step - loss: 0.1458 - accuracy: 0.9488 - val_loss: 0.8029 - val_accuracy: 0.6799\n"
     ]
    }
   ],
   "source": [
    "#fit the model from and training with less epochs since the paper claims these are the best parameters\n",
    "#i.e. testing the accuracy when trained with less epochs\n",
    "history = model_cnn2.fit(\n",
    "            train_rescale_ds,\n",
    "            batch_size=32,\n",
    "            epochs=5,\n",
    "            validation_data=val_rescale_ds\n",
    ")"
   ]
  },
  {
   "cell_type": "code",
   "execution_count": 45,
   "id": "8d635d2c-6c3a-4f7e-8860-620b3549a010",
   "metadata": {},
   "outputs": [
    {
     "data": {
      "text/plain": [
       "0.6921453475952148"
      ]
     },
     "execution_count": 45,
     "metadata": {},
     "output_type": "execute_result"
    }
   ],
   "source": [
    "#Testing accuracy of the high density model\n",
    "test_loss, test_accuracy = model_cnn2.evaluate(test_rescale_ds, verbose=0)\n",
    "test_accuracy"
   ]
  },
  {
   "cell_type": "code",
   "execution_count": 46,
   "id": "5a53497f-60fd-4ea6-9cc1-466de9cf631c",
   "metadata": {},
   "outputs": [],
   "source": [
    "#persistance of the model for future use\n",
    "model_cnn2.save(\"CNN_2.keras\")"
   ]
  },
  {
   "cell_type": "code",
   "execution_count": null,
   "id": "39237b04-65a2-4149-a1df-b7993ad2cf2b",
   "metadata": {},
   "outputs": [],
   "source": []
  }
 ],
 "metadata": {
  "kernelspec": {
   "display_name": "Python 3 (ipykernel)",
   "language": "python",
   "name": "python3"
  },
  "language_info": {
   "codemirror_mode": {
    "name": "ipython",
    "version": 3
   },
   "file_extension": ".py",
   "mimetype": "text/x-python",
   "name": "python",
   "nbconvert_exporter": "python",
   "pygments_lexer": "ipython3",
   "version": "3.11.1"
  }
 },
 "nbformat": 4,
 "nbformat_minor": 5
}
