{
 "cells": [
  {
   "cell_type": "markdown",
   "id": "aafddd74-c32d-4bcf-8b2f-bbfe8dc0962c",
   "metadata": {},
   "source": [
    "# Part 1: Data Pre-Processing and Visualization"
   ]
  },
  {
   "cell_type": "code",
   "execution_count": 1,
   "id": "969bc3c4-508f-4507-8fc2-09600a1051dc",
   "metadata": {},
   "outputs": [],
   "source": [
    "import pandas as pd\n",
    "\n",
    "# Importing the data\n",
    "data = pd.read_csv('project2.data')"
   ]
  },
  {
   "cell_type": "code",
   "execution_count": 2,
   "id": "9f2417e7-43cc-4a27-9ebb-ffd04ed60450",
   "metadata": {},
   "outputs": [
    {
     "name": "stdout",
     "output_type": "stream",
     "text": [
      "The shape of data is (286, 10) and the size of the data is 2860\n"
     ]
    }
   ],
   "source": [
    "# Identifying shape and size of the raw data\n",
    "print('The shape of data is', data.shape, 'and the size of the data is', data.size)"
   ]
  },
  {
   "cell_type": "code",
   "execution_count": 3,
   "id": "a8a3f895-023f-4c6f-818d-93823bdeefaf",
   "metadata": {},
   "outputs": [
    {
     "name": "stdout",
     "output_type": "stream",
     "text": [
      "<class 'pandas.core.frame.DataFrame'>\n",
      "RangeIndex: 286 entries, 0 to 285\n",
      "Data columns (total 10 columns):\n",
      " #   Column       Non-Null Count  Dtype \n",
      "---  ------       --------------  ----- \n",
      " 0   class        286 non-null    object\n",
      " 1   age          286 non-null    object\n",
      " 2   menopause    286 non-null    object\n",
      " 3   tumor-size   286 non-null    object\n",
      " 4   inv-nodes    286 non-null    object\n",
      " 5   node-caps    286 non-null    object\n",
      " 6   deg-malig    286 non-null    int64 \n",
      " 7   breast       286 non-null    object\n",
      " 8   breast-quad  286 non-null    object\n",
      " 9   irradiat     286 non-null    object\n",
      "dtypes: int64(1), object(9)\n",
      "memory usage: 22.5+ KB\n"
     ]
    }
   ],
   "source": [
    "# Getting information about datatypes\n",
    "data.info()"
   ]
  },
  {
   "cell_type": "code",
   "execution_count": 4,
   "id": "d3c2df33-8c54-4422-b3e2-a83e3fc03a76",
   "metadata": {},
   "outputs": [
    {
     "data": {
      "text/html": [
       "<div>\n",
       "<style scoped>\n",
       "    .dataframe tbody tr th:only-of-type {\n",
       "        vertical-align: middle;\n",
       "    }\n",
       "\n",
       "    .dataframe tbody tr th {\n",
       "        vertical-align: top;\n",
       "    }\n",
       "\n",
       "    .dataframe thead th {\n",
       "        text-align: right;\n",
       "    }\n",
       "</style>\n",
       "<table border=\"1\" class=\"dataframe\">\n",
       "  <thead>\n",
       "    <tr style=\"text-align: right;\">\n",
       "      <th></th>\n",
       "      <th>class</th>\n",
       "      <th>age</th>\n",
       "      <th>menopause</th>\n",
       "      <th>tumor-size</th>\n",
       "      <th>inv-nodes</th>\n",
       "      <th>node-caps</th>\n",
       "      <th>deg-malig</th>\n",
       "      <th>breast</th>\n",
       "      <th>breast-quad</th>\n",
       "      <th>irradiat</th>\n",
       "    </tr>\n",
       "  </thead>\n",
       "  <tbody>\n",
       "    <tr>\n",
       "      <th>0</th>\n",
       "      <td>no-recurrence-events</td>\n",
       "      <td>30-39</td>\n",
       "      <td>premeno</td>\n",
       "      <td>30-34</td>\n",
       "      <td>0-2</td>\n",
       "      <td>no</td>\n",
       "      <td>3</td>\n",
       "      <td>left</td>\n",
       "      <td>left_low</td>\n",
       "      <td>no</td>\n",
       "    </tr>\n",
       "    <tr>\n",
       "      <th>1</th>\n",
       "      <td>no-recurrence-events</td>\n",
       "      <td>40-49</td>\n",
       "      <td>premeno</td>\n",
       "      <td>20-24</td>\n",
       "      <td>0-2</td>\n",
       "      <td>no</td>\n",
       "      <td>2</td>\n",
       "      <td>right</td>\n",
       "      <td>right_up</td>\n",
       "      <td>no</td>\n",
       "    </tr>\n",
       "    <tr>\n",
       "      <th>2</th>\n",
       "      <td>no-recurrence-events</td>\n",
       "      <td>40-49</td>\n",
       "      <td>premeno</td>\n",
       "      <td>20-24</td>\n",
       "      <td>0-2</td>\n",
       "      <td>no</td>\n",
       "      <td>2</td>\n",
       "      <td>left</td>\n",
       "      <td>left_low</td>\n",
       "      <td>no</td>\n",
       "    </tr>\n",
       "    <tr>\n",
       "      <th>3</th>\n",
       "      <td>no-recurrence-events</td>\n",
       "      <td>60-69</td>\n",
       "      <td>ge40</td>\n",
       "      <td>15-19</td>\n",
       "      <td>0-2</td>\n",
       "      <td>no</td>\n",
       "      <td>2</td>\n",
       "      <td>right</td>\n",
       "      <td>left_up</td>\n",
       "      <td>no</td>\n",
       "    </tr>\n",
       "    <tr>\n",
       "      <th>4</th>\n",
       "      <td>no-recurrence-events</td>\n",
       "      <td>40-49</td>\n",
       "      <td>premeno</td>\n",
       "      <td>0-4</td>\n",
       "      <td>0-2</td>\n",
       "      <td>no</td>\n",
       "      <td>2</td>\n",
       "      <td>right</td>\n",
       "      <td>right_low</td>\n",
       "      <td>no</td>\n",
       "    </tr>\n",
       "    <tr>\n",
       "      <th>...</th>\n",
       "      <td>...</td>\n",
       "      <td>...</td>\n",
       "      <td>...</td>\n",
       "      <td>...</td>\n",
       "      <td>...</td>\n",
       "      <td>...</td>\n",
       "      <td>...</td>\n",
       "      <td>...</td>\n",
       "      <td>...</td>\n",
       "      <td>...</td>\n",
       "    </tr>\n",
       "    <tr>\n",
       "      <th>281</th>\n",
       "      <td>recurrence-events</td>\n",
       "      <td>30-39</td>\n",
       "      <td>premeno</td>\n",
       "      <td>30-34</td>\n",
       "      <td>0-2</td>\n",
       "      <td>no</td>\n",
       "      <td>2</td>\n",
       "      <td>left</td>\n",
       "      <td>left_up</td>\n",
       "      <td>no</td>\n",
       "    </tr>\n",
       "    <tr>\n",
       "      <th>282</th>\n",
       "      <td>recurrence-events</td>\n",
       "      <td>30-39</td>\n",
       "      <td>premeno</td>\n",
       "      <td>20-24</td>\n",
       "      <td>0-2</td>\n",
       "      <td>no</td>\n",
       "      <td>3</td>\n",
       "      <td>left</td>\n",
       "      <td>left_up</td>\n",
       "      <td>yes</td>\n",
       "    </tr>\n",
       "    <tr>\n",
       "      <th>283</th>\n",
       "      <td>recurrence-events</td>\n",
       "      <td>60-69</td>\n",
       "      <td>ge40</td>\n",
       "      <td>20-24</td>\n",
       "      <td>0-2</td>\n",
       "      <td>no</td>\n",
       "      <td>1</td>\n",
       "      <td>right</td>\n",
       "      <td>left_up</td>\n",
       "      <td>no</td>\n",
       "    </tr>\n",
       "    <tr>\n",
       "      <th>284</th>\n",
       "      <td>recurrence-events</td>\n",
       "      <td>40-49</td>\n",
       "      <td>ge40</td>\n",
       "      <td>30-34</td>\n",
       "      <td>3-5</td>\n",
       "      <td>no</td>\n",
       "      <td>3</td>\n",
       "      <td>left</td>\n",
       "      <td>left_low</td>\n",
       "      <td>no</td>\n",
       "    </tr>\n",
       "    <tr>\n",
       "      <th>285</th>\n",
       "      <td>recurrence-events</td>\n",
       "      <td>50-59</td>\n",
       "      <td>ge40</td>\n",
       "      <td>30-34</td>\n",
       "      <td>3-5</td>\n",
       "      <td>no</td>\n",
       "      <td>3</td>\n",
       "      <td>left</td>\n",
       "      <td>left_low</td>\n",
       "      <td>no</td>\n",
       "    </tr>\n",
       "  </tbody>\n",
       "</table>\n",
       "<p>286 rows × 10 columns</p>\n",
       "</div>"
      ],
      "text/plain": [
       "                    class    age menopause tumor-size inv-nodes node-caps  \\\n",
       "0    no-recurrence-events  30-39   premeno      30-34       0-2        no   \n",
       "1    no-recurrence-events  40-49   premeno      20-24       0-2        no   \n",
       "2    no-recurrence-events  40-49   premeno      20-24       0-2        no   \n",
       "3    no-recurrence-events  60-69      ge40      15-19       0-2        no   \n",
       "4    no-recurrence-events  40-49   premeno        0-4       0-2        no   \n",
       "..                    ...    ...       ...        ...       ...       ...   \n",
       "281     recurrence-events  30-39   premeno      30-34       0-2        no   \n",
       "282     recurrence-events  30-39   premeno      20-24       0-2        no   \n",
       "283     recurrence-events  60-69      ge40      20-24       0-2        no   \n",
       "284     recurrence-events  40-49      ge40      30-34       3-5        no   \n",
       "285     recurrence-events  50-59      ge40      30-34       3-5        no   \n",
       "\n",
       "     deg-malig breast breast-quad irradiat  \n",
       "0            3   left    left_low       no  \n",
       "1            2  right    right_up       no  \n",
       "2            2   left    left_low       no  \n",
       "3            2  right     left_up       no  \n",
       "4            2  right   right_low       no  \n",
       "..         ...    ...         ...      ...  \n",
       "281          2   left     left_up       no  \n",
       "282          3   left     left_up      yes  \n",
       "283          1  right     left_up       no  \n",
       "284          3   left    left_low       no  \n",
       "285          3   left    left_low       no  \n",
       "\n",
       "[286 rows x 10 columns]"
      ]
     },
     "execution_count": 4,
     "metadata": {},
     "output_type": "execute_result"
    }
   ],
   "source": [
    "# Just viewing the data\n",
    "data"
   ]
  },
  {
   "cell_type": "code",
   "execution_count": 5,
   "id": "4821f484-676a-4a3d-b655-a3bb5b6c39ad",
   "metadata": {},
   "outputs": [
    {
     "name": "stdout",
     "output_type": "stream",
     "text": [
      "Class ['no-recurrence-events' 'recurrence-events'] \n",
      "Age ['30-39' '40-49' '60-69' '50-59' '70-79' '20-29'] \n",
      "Menopause ['premeno' 'ge40' 'lt40']\n",
      "Tumor-Size ['30-34' '20-24' '15-19' '0-4' '25-29' '50-54' '10-14' '40-44' '35-39'\n",
      " '5-9' '45-49'] \n",
      "Inv-Nodes ['0-2' '6-8' '9-11' '3-5' '15-17' '12-14' '24-26'] \n",
      "Node-Caps ['no' 'yes' '?']\n",
      "Deg-Malig [3 2 1] \n",
      "Breast ['left' 'right'] \n",
      "Breast-Quad ['left_low' 'right_up' 'left_up' 'right_low' 'central' '?']\n",
      "Irradiat ['no' 'yes']\n"
     ]
    }
   ],
   "source": [
    "# To help visualize the data\n",
    "print('Class', data['class'].unique(), '\\nAge', data['age'].unique(), '\\nMenopause', data['menopause'].unique())\n",
    "print('Tumor-Size', data['tumor-size'].unique(), '\\nInv-Nodes', data['inv-nodes'].unique(), '\\nNode-Caps', data['node-caps'].unique())\n",
    "print('Deg-Malig', data['deg-malig'].unique(), '\\nBreast', data['breast'].unique(), '\\nBreast-Quad', data['breast-quad'].unique())\n",
    "print('Irradiat', data['irradiat'].unique())"
   ]
  },
  {
   "cell_type": "code",
   "execution_count": 6,
   "id": "87fcc74e-0a31-4523-a018-acee7b86a7a7",
   "metadata": {},
   "outputs": [
    {
     "data": {
      "text/html": [
       "<div>\n",
       "<style scoped>\n",
       "    .dataframe tbody tr th:only-of-type {\n",
       "        vertical-align: middle;\n",
       "    }\n",
       "\n",
       "    .dataframe tbody tr th {\n",
       "        vertical-align: top;\n",
       "    }\n",
       "\n",
       "    .dataframe thead th {\n",
       "        text-align: right;\n",
       "    }\n",
       "</style>\n",
       "<table border=\"1\" class=\"dataframe\">\n",
       "  <thead>\n",
       "    <tr style=\"text-align: right;\">\n",
       "      <th></th>\n",
       "      <th>class</th>\n",
       "      <th>age</th>\n",
       "      <th>menopause</th>\n",
       "      <th>tumor-size</th>\n",
       "      <th>inv-nodes</th>\n",
       "      <th>node-caps</th>\n",
       "      <th>deg-malig</th>\n",
       "      <th>breast</th>\n",
       "      <th>breast-quad</th>\n",
       "      <th>irradiat</th>\n",
       "    </tr>\n",
       "  </thead>\n",
       "  <tbody>\n",
       "    <tr>\n",
       "      <th>145</th>\n",
       "      <td>no-recurrence-events</td>\n",
       "      <td>40-49</td>\n",
       "      <td>premeno</td>\n",
       "      <td>25-29</td>\n",
       "      <td>0-2</td>\n",
       "      <td>?</td>\n",
       "      <td>2</td>\n",
       "      <td>left</td>\n",
       "      <td>right_low</td>\n",
       "      <td>yes</td>\n",
       "    </tr>\n",
       "    <tr>\n",
       "      <th>163</th>\n",
       "      <td>no-recurrence-events</td>\n",
       "      <td>60-69</td>\n",
       "      <td>ge40</td>\n",
       "      <td>25-29</td>\n",
       "      <td>3-5</td>\n",
       "      <td>?</td>\n",
       "      <td>1</td>\n",
       "      <td>right</td>\n",
       "      <td>left_up</td>\n",
       "      <td>yes</td>\n",
       "    </tr>\n",
       "    <tr>\n",
       "      <th>164</th>\n",
       "      <td>no-recurrence-events</td>\n",
       "      <td>60-69</td>\n",
       "      <td>ge40</td>\n",
       "      <td>25-29</td>\n",
       "      <td>3-5</td>\n",
       "      <td>?</td>\n",
       "      <td>1</td>\n",
       "      <td>right</td>\n",
       "      <td>left_low</td>\n",
       "      <td>yes</td>\n",
       "    </tr>\n",
       "    <tr>\n",
       "      <th>183</th>\n",
       "      <td>no-recurrence-events</td>\n",
       "      <td>50-59</td>\n",
       "      <td>ge40</td>\n",
       "      <td>30-34</td>\n",
       "      <td>9-11</td>\n",
       "      <td>?</td>\n",
       "      <td>3</td>\n",
       "      <td>left</td>\n",
       "      <td>left_up</td>\n",
       "      <td>yes</td>\n",
       "    </tr>\n",
       "    <tr>\n",
       "      <th>184</th>\n",
       "      <td>no-recurrence-events</td>\n",
       "      <td>50-59</td>\n",
       "      <td>ge40</td>\n",
       "      <td>30-34</td>\n",
       "      <td>9-11</td>\n",
       "      <td>?</td>\n",
       "      <td>3</td>\n",
       "      <td>left</td>\n",
       "      <td>left_low</td>\n",
       "      <td>yes</td>\n",
       "    </tr>\n",
       "    <tr>\n",
       "      <th>233</th>\n",
       "      <td>recurrence-events</td>\n",
       "      <td>70-79</td>\n",
       "      <td>ge40</td>\n",
       "      <td>15-19</td>\n",
       "      <td>9-11</td>\n",
       "      <td>?</td>\n",
       "      <td>1</td>\n",
       "      <td>left</td>\n",
       "      <td>left_low</td>\n",
       "      <td>yes</td>\n",
       "    </tr>\n",
       "    <tr>\n",
       "      <th>263</th>\n",
       "      <td>recurrence-events</td>\n",
       "      <td>50-59</td>\n",
       "      <td>lt40</td>\n",
       "      <td>20-24</td>\n",
       "      <td>0-2</td>\n",
       "      <td>?</td>\n",
       "      <td>1</td>\n",
       "      <td>left</td>\n",
       "      <td>left_up</td>\n",
       "      <td>no</td>\n",
       "    </tr>\n",
       "    <tr>\n",
       "      <th>264</th>\n",
       "      <td>recurrence-events</td>\n",
       "      <td>50-59</td>\n",
       "      <td>lt40</td>\n",
       "      <td>20-24</td>\n",
       "      <td>0-2</td>\n",
       "      <td>?</td>\n",
       "      <td>1</td>\n",
       "      <td>left</td>\n",
       "      <td>left_low</td>\n",
       "      <td>no</td>\n",
       "    </tr>\n",
       "  </tbody>\n",
       "</table>\n",
       "</div>"
      ],
      "text/plain": [
       "                    class    age menopause tumor-size inv-nodes node-caps  \\\n",
       "145  no-recurrence-events  40-49   premeno      25-29       0-2         ?   \n",
       "163  no-recurrence-events  60-69      ge40      25-29       3-5         ?   \n",
       "164  no-recurrence-events  60-69      ge40      25-29       3-5         ?   \n",
       "183  no-recurrence-events  50-59      ge40      30-34      9-11         ?   \n",
       "184  no-recurrence-events  50-59      ge40      30-34      9-11         ?   \n",
       "233     recurrence-events  70-79      ge40      15-19      9-11         ?   \n",
       "263     recurrence-events  50-59      lt40      20-24       0-2         ?   \n",
       "264     recurrence-events  50-59      lt40      20-24       0-2         ?   \n",
       "\n",
       "     deg-malig breast breast-quad irradiat  \n",
       "145          2   left   right_low      yes  \n",
       "163          1  right     left_up      yes  \n",
       "164          1  right    left_low      yes  \n",
       "183          3   left     left_up      yes  \n",
       "184          3   left    left_low      yes  \n",
       "233          1   left    left_low      yes  \n",
       "263          1   left     left_up       no  \n",
       "264          1   left    left_low       no  "
      ]
     },
     "execution_count": 6,
     "metadata": {},
     "output_type": "execute_result"
    }
   ],
   "source": [
    "# Just looking at the data\n",
    "data[data['node-caps'] == \"?\"]"
   ]
  },
  {
   "cell_type": "code",
   "execution_count": 7,
   "id": "79b2b0c8-dca3-4a93-9992-081f69c097fd",
   "metadata": {},
   "outputs": [
    {
     "data": {
      "text/plain": [
       "node-caps\n",
       "no     222\n",
       "yes     56\n",
       "?        8\n",
       "Name: count, dtype: int64"
      ]
     },
     "execution_count": 7,
     "metadata": {},
     "output_type": "execute_result"
    }
   ],
   "source": [
    "# Used ChatGPT here to find the \"value_counts\" function\n",
    "data['node-caps'].value_counts()"
   ]
  },
  {
   "cell_type": "code",
   "execution_count": 8,
   "id": "393d482d-65ce-43be-ade2-b320772d875a",
   "metadata": {},
   "outputs": [
    {
     "data": {
      "text/plain": [
       "node-caps\n",
       "no     201\n",
       "yes      9\n",
       "?        3\n",
       "Name: count, dtype: int64"
      ]
     },
     "execution_count": 8,
     "metadata": {},
     "output_type": "execute_result"
    }
   ],
   "source": [
    "data[data['inv-nodes'] == \"0-2\"]['node-caps'].value_counts()"
   ]
  },
  {
   "cell_type": "code",
   "execution_count": 9,
   "id": "52f85122-0e8d-4071-803e-e407a03d928c",
   "metadata": {},
   "outputs": [
    {
     "name": "stdout",
     "output_type": "stream",
     "text": [
      "Before for  0-2 : \n",
      " node-caps\n",
      "no     201\n",
      "yes      9\n",
      "?        3\n",
      "Name: count, dtype: int64 \n",
      "\n",
      "After for  0-2 : \n",
      " node-caps\n",
      "no     204\n",
      "yes      9\n",
      "Name: count, dtype: int64 \n",
      "\n",
      "Before for  6-8 : \n",
      " node-caps\n",
      "yes    14\n",
      "no      3\n",
      "Name: count, dtype: int64 \n",
      "\n",
      "After for  6-8 : \n",
      " node-caps\n",
      "yes    14\n",
      "no      3\n",
      "Name: count, dtype: int64 \n",
      "\n",
      "Before for  9-11 : \n",
      " node-caps\n",
      "yes    6\n",
      "?      3\n",
      "no     1\n",
      "Name: count, dtype: int64 \n",
      "\n",
      "After for  9-11 : \n",
      " node-caps\n",
      "yes    9\n",
      "no     1\n",
      "Name: count, dtype: int64 \n",
      "\n",
      "Before for  3-5 : \n",
      " node-caps\n",
      "yes    19\n",
      "no     15\n",
      "?       2\n",
      "Name: count, dtype: int64 \n",
      "\n",
      "After for  3-5 : \n",
      " node-caps\n",
      "yes    21\n",
      "no     15\n",
      "Name: count, dtype: int64 \n",
      "\n",
      "Before for  15-17 : \n",
      " node-caps\n",
      "yes    5\n",
      "no     1\n",
      "Name: count, dtype: int64 \n",
      "\n",
      "After for  15-17 : \n",
      " node-caps\n",
      "yes    5\n",
      "no     1\n",
      "Name: count, dtype: int64 \n",
      "\n",
      "Before for  12-14 : \n",
      " node-caps\n",
      "yes    2\n",
      "no     1\n",
      "Name: count, dtype: int64 \n",
      "\n",
      "After for  12-14 : \n",
      " node-caps\n",
      "yes    2\n",
      "no     1\n",
      "Name: count, dtype: int64 \n",
      "\n",
      "Before for  24-26 : \n",
      " node-caps\n",
      "yes    1\n",
      "Name: count, dtype: int64 \n",
      "\n",
      "After for  24-26 : \n",
      " node-caps\n",
      "yes    1\n",
      "Name: count, dtype: int64 \n",
      "\n"
     ]
    }
   ],
   "source": [
    "# For-loop to replace ? values in the node-caps column\n",
    "for x in data['inv-nodes'].unique():\n",
    "    data_val_counts = data[data['inv-nodes'] == x]['node-caps'].value_counts()\n",
    "    # Printing before\n",
    "    print('Before for ', x, ': \\n', data_val_counts, '\\n')\n",
    "\n",
    "    # If the certain inv-nodes has a \"?\" value, continue\n",
    "    if not (data.loc[(data['inv-nodes'] == x) & (data['node-caps'] == '?')].empty):\n",
    "        \n",
    "        # If there are both 'yes' and 'no', continue\n",
    "        if not ((data.loc[(data['inv-nodes'] == x) & (data['node-caps'] == 'yes')].empty) & (data.loc[(data['inv-nodes'] == x) & (data['node-caps'] == 'no')].empty)):\n",
    "            \n",
    "            # Median approach\n",
    "            if (data_val_counts['yes'] > data_val_counts['no']):\n",
    "                data.loc[(data['inv-nodes'] == x) & (data['node-caps'] == \"?\"), 'node-caps'] = 'yes'\n",
    "                \n",
    "            elif (data_val_counts['yes'] < data_val_counts['no']):\n",
    "                data.loc[(data['inv-nodes'] == x) & (data['node-caps'] == \"?\"), 'node-caps'] = 'no'\n",
    "                \n",
    "            # Thought it would be safer to have no than yes for this dataset\n",
    "            else:\n",
    "                data.loc[(data['inv-nodes'] == x) & (data['node-caps'] == \"?\"), 'node-caps'] = 'no'\n",
    "                \n",
    "        # This is technically not needed for this dataset, but would work for other datasets\n",
    "        elif not (data.loc[(data['inv-nodes'] == x) & (data['node-caps'] == 'yes')].empty):\n",
    "            data.loc[(data['inv-nodes'] == x) & (data['node-caps'] == \"?\"), 'node-caps'] = 'yes'\n",
    "            \n",
    "        elif not (data.loc[(data['inv-nodes'] == x) & (data['node-caps'] == 'no')].empty):\n",
    "            data.loc[(data['inv-nodes'] == x) & (data['node-caps'] == \"?\"), 'node-caps'] = 'no'\n",
    "    # Printing after\n",
    "    print('After for ', x, ': \\n', data[data['inv-nodes'] == x]['node-caps'].value_counts(), '\\n')\n"
   ]
  },
  {
   "cell_type": "code",
   "execution_count": 10,
   "id": "3f35c57d-3d93-4199-ab0c-f174d914595e",
   "metadata": {},
   "outputs": [
    {
     "data": {
      "text/plain": [
       "array(['no', 'yes'], dtype=object)"
      ]
     },
     "execution_count": 10,
     "metadata": {},
     "output_type": "execute_result"
    }
   ],
   "source": [
    "# Proving that it worked\n",
    "data['node-caps'].unique()"
   ]
  },
  {
   "cell_type": "code",
   "execution_count": 11,
   "id": "02b29073-e394-4aa0-afef-6a2b03bcd8d7",
   "metadata": {},
   "outputs": [
    {
     "data": {
      "text/html": [
       "<div>\n",
       "<style scoped>\n",
       "    .dataframe tbody tr th:only-of-type {\n",
       "        vertical-align: middle;\n",
       "    }\n",
       "\n",
       "    .dataframe tbody tr th {\n",
       "        vertical-align: top;\n",
       "    }\n",
       "\n",
       "    .dataframe thead th {\n",
       "        text-align: right;\n",
       "    }\n",
       "</style>\n",
       "<table border=\"1\" class=\"dataframe\">\n",
       "  <thead>\n",
       "    <tr style=\"text-align: right;\">\n",
       "      <th></th>\n",
       "      <th>class</th>\n",
       "      <th>age</th>\n",
       "      <th>menopause</th>\n",
       "      <th>tumor-size</th>\n",
       "      <th>inv-nodes</th>\n",
       "      <th>node-caps</th>\n",
       "      <th>deg-malig</th>\n",
       "      <th>breast</th>\n",
       "      <th>breast-quad</th>\n",
       "      <th>irradiat</th>\n",
       "    </tr>\n",
       "  </thead>\n",
       "  <tbody>\n",
       "    <tr>\n",
       "      <th>206</th>\n",
       "      <td>recurrence-events</td>\n",
       "      <td>50-59</td>\n",
       "      <td>ge40</td>\n",
       "      <td>30-34</td>\n",
       "      <td>0-2</td>\n",
       "      <td>no</td>\n",
       "      <td>3</td>\n",
       "      <td>left</td>\n",
       "      <td>?</td>\n",
       "      <td>no</td>\n",
       "    </tr>\n",
       "  </tbody>\n",
       "</table>\n",
       "</div>"
      ],
      "text/plain": [
       "                 class    age menopause tumor-size inv-nodes node-caps  \\\n",
       "206  recurrence-events  50-59      ge40      30-34       0-2        no   \n",
       "\n",
       "     deg-malig breast breast-quad irradiat  \n",
       "206          3   left           ?       no  "
      ]
     },
     "execution_count": 11,
     "metadata": {},
     "output_type": "execute_result"
    }
   ],
   "source": [
    "# Looking at the data for breast-quad\n",
    "data[data['breast-quad'] == \"?\"]"
   ]
  },
  {
   "cell_type": "code",
   "execution_count": 12,
   "id": "2224be73-e7b5-4b3d-bf52-3a726177caf3",
   "metadata": {},
   "outputs": [
    {
     "data": {
      "text/plain": [
       "breast-quad\n",
       "left_low     110\n",
       "left_up       97\n",
       "right_up      33\n",
       "right_low     24\n",
       "central       21\n",
       "?              1\n",
       "Name: count, dtype: int64"
      ]
     },
     "execution_count": 12,
     "metadata": {},
     "output_type": "execute_result"
    }
   ],
   "source": [
    "data['breast-quad'].value_counts()"
   ]
  },
  {
   "cell_type": "code",
   "execution_count": 13,
   "id": "9745784e-b5ba-422d-8775-dba812f5a19d",
   "metadata": {},
   "outputs": [],
   "source": [
    "data.loc[data['breast-quad'] == \"?\", 'breast-quad'] = 'left_low'"
   ]
  },
  {
   "cell_type": "code",
   "execution_count": 14,
   "id": "9d26072e-f690-4bbe-93a7-3fb76bafbd36",
   "metadata": {},
   "outputs": [
    {
     "data": {
      "text/html": [
       "<div>\n",
       "<style scoped>\n",
       "    .dataframe tbody tr th:only-of-type {\n",
       "        vertical-align: middle;\n",
       "    }\n",
       "\n",
       "    .dataframe tbody tr th {\n",
       "        vertical-align: top;\n",
       "    }\n",
       "\n",
       "    .dataframe thead th {\n",
       "        text-align: right;\n",
       "    }\n",
       "</style>\n",
       "<table border=\"1\" class=\"dataframe\">\n",
       "  <thead>\n",
       "    <tr style=\"text-align: right;\">\n",
       "      <th></th>\n",
       "      <th>class</th>\n",
       "      <th>age</th>\n",
       "      <th>menopause</th>\n",
       "      <th>tumor-size</th>\n",
       "      <th>inv-nodes</th>\n",
       "      <th>node-caps</th>\n",
       "      <th>deg-malig</th>\n",
       "      <th>breast</th>\n",
       "      <th>breast-quad</th>\n",
       "      <th>irradiat</th>\n",
       "    </tr>\n",
       "  </thead>\n",
       "  <tbody>\n",
       "  </tbody>\n",
       "</table>\n",
       "</div>"
      ],
      "text/plain": [
       "Empty DataFrame\n",
       "Columns: [class, age, menopause, tumor-size, inv-nodes, node-caps, deg-malig, breast, breast-quad, irradiat]\n",
       "Index: []"
      ]
     },
     "execution_count": 14,
     "metadata": {},
     "output_type": "execute_result"
    }
   ],
   "source": [
    "# Checking to make sure it was properly replaced\n",
    "data[data['breast-quad'] == \"?\"]"
   ]
  },
  {
   "cell_type": "code",
   "execution_count": 15,
   "id": "513fcdbe-b2fe-4440-87e6-680569998ae6",
   "metadata": {},
   "outputs": [
    {
     "data": {
      "text/html": [
       "<div>\n",
       "<style scoped>\n",
       "    .dataframe tbody tr th:only-of-type {\n",
       "        vertical-align: middle;\n",
       "    }\n",
       "\n",
       "    .dataframe tbody tr th {\n",
       "        vertical-align: top;\n",
       "    }\n",
       "\n",
       "    .dataframe thead th {\n",
       "        text-align: right;\n",
       "    }\n",
       "</style>\n",
       "<table border=\"1\" class=\"dataframe\">\n",
       "  <thead>\n",
       "    <tr style=\"text-align: right;\">\n",
       "      <th></th>\n",
       "      <th>class</th>\n",
       "      <th>age</th>\n",
       "      <th>menopause</th>\n",
       "      <th>tumor-size</th>\n",
       "      <th>inv-nodes</th>\n",
       "      <th>node-caps</th>\n",
       "      <th>deg-malig</th>\n",
       "      <th>breast</th>\n",
       "      <th>breast-quad</th>\n",
       "      <th>irradiat</th>\n",
       "    </tr>\n",
       "  </thead>\n",
       "  <tbody>\n",
       "    <tr>\n",
       "      <th>0</th>\n",
       "      <td>no-recurrence-events</td>\n",
       "      <td>30-39</td>\n",
       "      <td>premeno</td>\n",
       "      <td>30-34</td>\n",
       "      <td>0-2</td>\n",
       "      <td>no</td>\n",
       "      <td>3</td>\n",
       "      <td>left</td>\n",
       "      <td>left_low</td>\n",
       "      <td>no</td>\n",
       "    </tr>\n",
       "    <tr>\n",
       "      <th>1</th>\n",
       "      <td>no-recurrence-events</td>\n",
       "      <td>40-49</td>\n",
       "      <td>premeno</td>\n",
       "      <td>20-24</td>\n",
       "      <td>0-2</td>\n",
       "      <td>no</td>\n",
       "      <td>2</td>\n",
       "      <td>right</td>\n",
       "      <td>right_up</td>\n",
       "      <td>no</td>\n",
       "    </tr>\n",
       "    <tr>\n",
       "      <th>2</th>\n",
       "      <td>no-recurrence-events</td>\n",
       "      <td>40-49</td>\n",
       "      <td>premeno</td>\n",
       "      <td>20-24</td>\n",
       "      <td>0-2</td>\n",
       "      <td>no</td>\n",
       "      <td>2</td>\n",
       "      <td>left</td>\n",
       "      <td>left_low</td>\n",
       "      <td>no</td>\n",
       "    </tr>\n",
       "    <tr>\n",
       "      <th>3</th>\n",
       "      <td>no-recurrence-events</td>\n",
       "      <td>60-69</td>\n",
       "      <td>ge40</td>\n",
       "      <td>15-19</td>\n",
       "      <td>0-2</td>\n",
       "      <td>no</td>\n",
       "      <td>2</td>\n",
       "      <td>right</td>\n",
       "      <td>left_up</td>\n",
       "      <td>no</td>\n",
       "    </tr>\n",
       "    <tr>\n",
       "      <th>4</th>\n",
       "      <td>no-recurrence-events</td>\n",
       "      <td>40-49</td>\n",
       "      <td>premeno</td>\n",
       "      <td>0-4</td>\n",
       "      <td>0-2</td>\n",
       "      <td>no</td>\n",
       "      <td>2</td>\n",
       "      <td>right</td>\n",
       "      <td>right_low</td>\n",
       "      <td>no</td>\n",
       "    </tr>\n",
       "    <tr>\n",
       "      <th>...</th>\n",
       "      <td>...</td>\n",
       "      <td>...</td>\n",
       "      <td>...</td>\n",
       "      <td>...</td>\n",
       "      <td>...</td>\n",
       "      <td>...</td>\n",
       "      <td>...</td>\n",
       "      <td>...</td>\n",
       "      <td>...</td>\n",
       "      <td>...</td>\n",
       "    </tr>\n",
       "    <tr>\n",
       "      <th>281</th>\n",
       "      <td>recurrence-events</td>\n",
       "      <td>30-39</td>\n",
       "      <td>premeno</td>\n",
       "      <td>30-34</td>\n",
       "      <td>0-2</td>\n",
       "      <td>no</td>\n",
       "      <td>2</td>\n",
       "      <td>left</td>\n",
       "      <td>left_up</td>\n",
       "      <td>no</td>\n",
       "    </tr>\n",
       "    <tr>\n",
       "      <th>282</th>\n",
       "      <td>recurrence-events</td>\n",
       "      <td>30-39</td>\n",
       "      <td>premeno</td>\n",
       "      <td>20-24</td>\n",
       "      <td>0-2</td>\n",
       "      <td>no</td>\n",
       "      <td>3</td>\n",
       "      <td>left</td>\n",
       "      <td>left_up</td>\n",
       "      <td>yes</td>\n",
       "    </tr>\n",
       "    <tr>\n",
       "      <th>283</th>\n",
       "      <td>recurrence-events</td>\n",
       "      <td>60-69</td>\n",
       "      <td>ge40</td>\n",
       "      <td>20-24</td>\n",
       "      <td>0-2</td>\n",
       "      <td>no</td>\n",
       "      <td>1</td>\n",
       "      <td>right</td>\n",
       "      <td>left_up</td>\n",
       "      <td>no</td>\n",
       "    </tr>\n",
       "    <tr>\n",
       "      <th>284</th>\n",
       "      <td>recurrence-events</td>\n",
       "      <td>40-49</td>\n",
       "      <td>ge40</td>\n",
       "      <td>30-34</td>\n",
       "      <td>3-5</td>\n",
       "      <td>no</td>\n",
       "      <td>3</td>\n",
       "      <td>left</td>\n",
       "      <td>left_low</td>\n",
       "      <td>no</td>\n",
       "    </tr>\n",
       "    <tr>\n",
       "      <th>285</th>\n",
       "      <td>recurrence-events</td>\n",
       "      <td>50-59</td>\n",
       "      <td>ge40</td>\n",
       "      <td>30-34</td>\n",
       "      <td>3-5</td>\n",
       "      <td>no</td>\n",
       "      <td>3</td>\n",
       "      <td>left</td>\n",
       "      <td>left_low</td>\n",
       "      <td>no</td>\n",
       "    </tr>\n",
       "  </tbody>\n",
       "</table>\n",
       "<p>286 rows × 10 columns</p>\n",
       "</div>"
      ],
      "text/plain": [
       "                    class    age menopause tumor-size inv-nodes node-caps  \\\n",
       "0    no-recurrence-events  30-39   premeno      30-34       0-2        no   \n",
       "1    no-recurrence-events  40-49   premeno      20-24       0-2        no   \n",
       "2    no-recurrence-events  40-49   premeno      20-24       0-2        no   \n",
       "3    no-recurrence-events  60-69      ge40      15-19       0-2        no   \n",
       "4    no-recurrence-events  40-49   premeno        0-4       0-2        no   \n",
       "..                    ...    ...       ...        ...       ...       ...   \n",
       "281     recurrence-events  30-39   premeno      30-34       0-2        no   \n",
       "282     recurrence-events  30-39   premeno      20-24       0-2        no   \n",
       "283     recurrence-events  60-69      ge40      20-24       0-2        no   \n",
       "284     recurrence-events  40-49      ge40      30-34       3-5        no   \n",
       "285     recurrence-events  50-59      ge40      30-34       3-5        no   \n",
       "\n",
       "     deg-malig breast breast-quad irradiat  \n",
       "0            3   left    left_low       no  \n",
       "1            2  right    right_up       no  \n",
       "2            2   left    left_low       no  \n",
       "3            2  right     left_up       no  \n",
       "4            2  right   right_low       no  \n",
       "..         ...    ...         ...      ...  \n",
       "281          2   left     left_up       no  \n",
       "282          3   left     left_up      yes  \n",
       "283          1  right     left_up       no  \n",
       "284          3   left    left_low       no  \n",
       "285          3   left    left_low       no  \n",
       "\n",
       "[286 rows x 10 columns]"
      ]
     },
     "execution_count": 15,
     "metadata": {},
     "output_type": "execute_result"
    }
   ],
   "source": [
    "data"
   ]
  },
  {
   "cell_type": "code",
   "execution_count": 16,
   "id": "843d711d-44bf-4c23-8104-1625032e4a7c",
   "metadata": {},
   "outputs": [],
   "source": [
    "# Converting object datatypes to categorical\n",
    "data['class'] = data['class'].astype('category')\n",
    "data['menopause'] = data['menopause'].astype('category')\n",
    "data['node-caps'] = data['node-caps'].astype('category')\n",
    "data['breast'] = data['breast'].astype('category')\n",
    "data['breast-quad'] = data['breast-quad'].astype('category')\n",
    "data['irradiat'] = data['irradiat'].astype('category')"
   ]
  },
  {
   "cell_type": "code",
   "execution_count": 17,
   "id": "c08b6ba9-8ba4-4317-89dc-5f0b61e55ff4",
   "metadata": {},
   "outputs": [
    {
     "name": "stdout",
     "output_type": "stream",
     "text": [
      "<class 'pandas.core.frame.DataFrame'>\n",
      "RangeIndex: 286 entries, 0 to 285\n",
      "Data columns (total 10 columns):\n",
      " #   Column       Non-Null Count  Dtype   \n",
      "---  ------       --------------  -----   \n",
      " 0   class        286 non-null    category\n",
      " 1   age          286 non-null    object  \n",
      " 2   menopause    286 non-null    category\n",
      " 3   tumor-size   286 non-null    object  \n",
      " 4   inv-nodes    286 non-null    object  \n",
      " 5   node-caps    286 non-null    category\n",
      " 6   deg-malig    286 non-null    int64   \n",
      " 7   breast       286 non-null    category\n",
      " 8   breast-quad  286 non-null    category\n",
      " 9   irradiat     286 non-null    category\n",
      "dtypes: category(6), int64(1), object(3)\n",
      "memory usage: 11.6+ KB\n"
     ]
    }
   ],
   "source": [
    "data.info()"
   ]
  },
  {
   "cell_type": "code",
   "execution_count": 18,
   "id": "23667824-bf28-4043-baf4-c1093f3d1bbb",
   "metadata": {},
   "outputs": [
    {
     "name": "stdout",
     "output_type": "stream",
     "text": [
      "<class 'pandas.core.frame.DataFrame'>\n",
      "RangeIndex: 286 entries, 0 to 285\n",
      "Data columns (total 14 columns):\n",
      " #   Column                   Non-Null Count  Dtype \n",
      "---  ------                   --------------  ----- \n",
      " 0   age                      286 non-null    object\n",
      " 1   tumor-size               286 non-null    object\n",
      " 2   inv-nodes                286 non-null    object\n",
      " 3   deg-malig                286 non-null    int64 \n",
      " 4   class_recurrence-events  286 non-null    bool  \n",
      " 5   menopause_lt40           286 non-null    bool  \n",
      " 6   menopause_premeno        286 non-null    bool  \n",
      " 7   node-caps_yes            286 non-null    bool  \n",
      " 8   breast_right             286 non-null    bool  \n",
      " 9   breast-quad_left_low     286 non-null    bool  \n",
      " 10  breast-quad_left_up      286 non-null    bool  \n",
      " 11  breast-quad_right_low    286 non-null    bool  \n",
      " 12  breast-quad_right_up     286 non-null    bool  \n",
      " 13  irradiat_yes             286 non-null    bool  \n",
      "dtypes: bool(10), int64(1), object(3)\n",
      "memory usage: 11.9+ KB\n"
     ]
    }
   ],
   "source": [
    "data = pd.get_dummies(data, columns=['class', 'menopause', 'node-caps', 'breast', 'breast-quad', 'irradiat'], drop_first=True)\n",
    "data.info()"
   ]
  },
  {
   "cell_type": "code",
   "execution_count": 19,
   "id": "2f5718a6-a231-4a8b-b529-9467dee2bfea",
   "metadata": {},
   "outputs": [],
   "source": [
    "# Converting the tumor-size, inv-nodes, and age column to integer\n",
    "x = ['tumor-size', 'inv-nodes', 'age']\n",
    "for i in x:\n",
    "    for j in data[i].unique():\n",
    "        data.loc[(data[i] == j), i] = int(j.split('-')[0])\n",
    "    data[i] = data[i].astype('int')"
   ]
  },
  {
   "cell_type": "code",
   "execution_count": 20,
   "id": "0207e415-24b0-4d20-986c-26380cf911bd",
   "metadata": {},
   "outputs": [
    {
     "name": "stdout",
     "output_type": "stream",
     "text": [
      "<class 'pandas.core.frame.DataFrame'>\n",
      "RangeIndex: 286 entries, 0 to 285\n",
      "Data columns (total 14 columns):\n",
      " #   Column                   Non-Null Count  Dtype\n",
      "---  ------                   --------------  -----\n",
      " 0   age                      286 non-null    int64\n",
      " 1   tumor-size               286 non-null    int64\n",
      " 2   inv-nodes                286 non-null    int64\n",
      " 3   deg-malig                286 non-null    int64\n",
      " 4   class_recurrence-events  286 non-null    bool \n",
      " 5   menopause_lt40           286 non-null    bool \n",
      " 6   menopause_premeno        286 non-null    bool \n",
      " 7   node-caps_yes            286 non-null    bool \n",
      " 8   breast_right             286 non-null    bool \n",
      " 9   breast-quad_left_low     286 non-null    bool \n",
      " 10  breast-quad_left_up      286 non-null    bool \n",
      " 11  breast-quad_right_low    286 non-null    bool \n",
      " 12  breast-quad_right_up     286 non-null    bool \n",
      " 13  irradiat_yes             286 non-null    bool \n",
      "dtypes: bool(10), int64(4)\n",
      "memory usage: 11.9 KB\n"
     ]
    }
   ],
   "source": [
    "data.info()"
   ]
  },
  {
   "cell_type": "code",
   "execution_count": 21,
   "id": "ed0127c3-9b84-4782-b336-a6ad8d0360fd",
   "metadata": {},
   "outputs": [
    {
     "data": {
      "text/html": [
       "<div>\n",
       "<style scoped>\n",
       "    .dataframe tbody tr th:only-of-type {\n",
       "        vertical-align: middle;\n",
       "    }\n",
       "\n",
       "    .dataframe tbody tr th {\n",
       "        vertical-align: top;\n",
       "    }\n",
       "\n",
       "    .dataframe thead th {\n",
       "        text-align: right;\n",
       "    }\n",
       "</style>\n",
       "<table border=\"1\" class=\"dataframe\">\n",
       "  <thead>\n",
       "    <tr style=\"text-align: right;\">\n",
       "      <th></th>\n",
       "      <th>age</th>\n",
       "      <th>tumor-size</th>\n",
       "      <th>inv-nodes</th>\n",
       "      <th>deg-malig</th>\n",
       "    </tr>\n",
       "  </thead>\n",
       "  <tbody>\n",
       "    <tr>\n",
       "      <th>count</th>\n",
       "      <td>286.000000</td>\n",
       "      <td>286.000000</td>\n",
       "      <td>286.000000</td>\n",
       "      <td>286.000000</td>\n",
       "    </tr>\n",
       "    <tr>\n",
       "      <th>mean</th>\n",
       "      <td>46.643357</td>\n",
       "      <td>24.405594</td>\n",
       "      <td>1.573427</td>\n",
       "      <td>2.048951</td>\n",
       "    </tr>\n",
       "    <tr>\n",
       "      <th>std</th>\n",
       "      <td>10.118183</td>\n",
       "      <td>10.529649</td>\n",
       "      <td>3.451904</td>\n",
       "      <td>0.738217</td>\n",
       "    </tr>\n",
       "    <tr>\n",
       "      <th>min</th>\n",
       "      <td>20.000000</td>\n",
       "      <td>0.000000</td>\n",
       "      <td>0.000000</td>\n",
       "      <td>1.000000</td>\n",
       "    </tr>\n",
       "    <tr>\n",
       "      <th>25%</th>\n",
       "      <td>40.000000</td>\n",
       "      <td>20.000000</td>\n",
       "      <td>0.000000</td>\n",
       "      <td>2.000000</td>\n",
       "    </tr>\n",
       "    <tr>\n",
       "      <th>50%</th>\n",
       "      <td>50.000000</td>\n",
       "      <td>25.000000</td>\n",
       "      <td>0.000000</td>\n",
       "      <td>2.000000</td>\n",
       "    </tr>\n",
       "    <tr>\n",
       "      <th>75%</th>\n",
       "      <td>50.000000</td>\n",
       "      <td>30.000000</td>\n",
       "      <td>3.000000</td>\n",
       "      <td>3.000000</td>\n",
       "    </tr>\n",
       "    <tr>\n",
       "      <th>max</th>\n",
       "      <td>70.000000</td>\n",
       "      <td>50.000000</td>\n",
       "      <td>24.000000</td>\n",
       "      <td>3.000000</td>\n",
       "    </tr>\n",
       "  </tbody>\n",
       "</table>\n",
       "</div>"
      ],
      "text/plain": [
       "              age  tumor-size   inv-nodes   deg-malig\n",
       "count  286.000000  286.000000  286.000000  286.000000\n",
       "mean    46.643357   24.405594    1.573427    2.048951\n",
       "std     10.118183   10.529649    3.451904    0.738217\n",
       "min     20.000000    0.000000    0.000000    1.000000\n",
       "25%     40.000000   20.000000    0.000000    2.000000\n",
       "50%     50.000000   25.000000    0.000000    2.000000\n",
       "75%     50.000000   30.000000    3.000000    3.000000\n",
       "max     70.000000   50.000000   24.000000    3.000000"
      ]
     },
     "execution_count": 21,
     "metadata": {},
     "output_type": "execute_result"
    }
   ],
   "source": [
    "data.describe()"
   ]
  },
  {
   "cell_type": "code",
   "execution_count": 22,
   "id": "d7813ba1-2f5f-4f93-8e71-d1c08653948d",
   "metadata": {},
   "outputs": [
    {
     "data": {
      "text/plain": [
       "<Axes: xlabel='age', ylabel='count'>"
      ]
     },
     "execution_count": 22,
     "metadata": {},
     "output_type": "execute_result"
    },
    {
     "data": {
      "image/png": "[encoded data removed]",
      "text/plain": [
       "<Figure size 640x480 with 1 Axes>"
      ]
     },
     "metadata": {},
     "output_type": "display_data"
    }
   ],
   "source": [
    "# Univariate Analysis\n",
    "import seaborn as sns\n",
    "import matplotlib.pyplot as plt\n",
    "\n",
    "sns.countplot(x=data['age'])"
   ]
  },
  {
   "cell_type": "markdown",
   "id": "43b611c9-5075-4919-93bb-12309fcf96ba",
   "metadata": {},
   "source": [
    "## Comments on observations:\n",
    "\n",
    "The graph of the age shows that this dataset contains a lot of data for the middle age range (40-50).\n",
    "This means that the model will ultimately have a larger bias for the middle age group compared to\n",
    "the youngest and oldest age groups because there is simply more data."
   ]
  },
  {
   "cell_type": "code",
   "execution_count": 23,
   "id": "7d3655e6-cff7-4a24-a9fb-0883aaa45348",
   "metadata": {},
   "outputs": [
    {
     "data": {
      "text/plain": [
       "<Axes: xlabel='tumor-size'>"
      ]
     },
     "execution_count": 23,
     "metadata": {},
     "output_type": "execute_result"
    },
    {
     "data": {
      "image/png": "[encoded data removed]",
      "text/plain": [
       "<Figure size 640x480 with 1 Axes>"
      ]
     },
     "metadata": {},
     "output_type": "display_data"
    }
   ],
   "source": [
    "sns.boxplot(data=data, x='tumor-size')"
   ]
  },
  {
   "cell_type": "markdown",
   "id": "9096c35f-3365-4695-9d6e-e854a8b6803d",
   "metadata": {},
   "source": [
    "## Comments on observations:\n",
    "\n",
    "This graph for tumor size shows that the data is also very middle heavy, giving more bias towards medium sized tumors compared to the smaller and larger sized tumors. This is also seen with the dots on either side of the box plot, which show that the largest and smallest tumor sizes are outliers of the dataset."
   ]
  },
  {
   "cell_type": "code",
   "execution_count": 24,
   "id": "b7051984-490e-4d8e-ba77-f4119cf98647",
   "metadata": {},
   "outputs": [
    {
     "data": {
      "text/plain": [
       "<Axes: xlabel='deg-malig', ylabel='count'>"
      ]
     },
     "execution_count": 24,
     "metadata": {},
     "output_type": "execute_result"
    },
    {
     "data": {
      "image/png": "[encoded data removed]",
      "text/plain": [
       "<Figure size 640x480 with 1 Axes>"
      ]
     },
     "metadata": {},
     "output_type": "display_data"
    }
   ],
   "source": [
    "sns.countplot(data=data, x='deg-malig')"
   ]
  },
  {
   "cell_type": "markdown",
   "id": "e3eb8377-c79e-41fc-acc4-1a1e1091bb77",
   "metadata": {},
   "source": [
    "## Comments on observations:\n",
    "\n",
    "The degree of malignancy seems to be pretty decently spread as it is evenly spread amongst all 3 different degrees of malignancy. There might be a slight bias towards the higher degrees, but overall not as bad as the other values."
   ]
  },
  {
   "cell_type": "markdown",
   "id": "7b79871d-8973-4618-9711-5bbde819aafd",
   "metadata": {},
   "source": [
    "# Part 2: Building and Assessing Models"
   ]
  },
  {
   "cell_type": "code",
   "execution_count": 25,
   "id": "82f18518-ac27-484f-8076-877da76f1e08",
   "metadata": {},
   "outputs": [],
   "source": [
    "from sklearn.model_selection import train_test_split\n",
    "\n",
    "# Splitting the train and test\n",
    "y = data['class_recurrence-events']\n",
    "X = data.drop(['class_recurrence-events'], axis=1)\n",
    "X_train, X_test, y_train, y_test = train_test_split(X, y, test_size=0.3, random_state=1)"
   ]
  },
  {
   "cell_type": "markdown",
   "id": "30168005-ce67-4a7e-a56a-05f2cc604e1f",
   "metadata": {},
   "source": [
    "## Model 1: K-Nearest Neighbor"
   ]
  },
  {
   "cell_type": "code",
   "execution_count": 26,
   "id": "c7435344-6a4e-4a12-8592-18ea099049de",
   "metadata": {},
   "outputs": [
    {
     "data": {
      "text/html": [
       "<style>#sk-container-id-1 {color: black;}#sk-container-id-1 pre{padding: 0;}#sk-container-id-1 div.sk-toggleable {background-color: white;}#sk-container-id-1 label.sk-toggleable__label {cursor: pointer;display: block;width: 100%;margin-bottom: 0;padding: 0.3em;box-sizing: border-box;text-align: center;}#sk-container-id-1 label.sk-toggleable__label-arrow:before {content: \"▸\";float: left;margin-right: 0.25em;color: #696969;}#sk-container-id-1 label.sk-toggleable__label-arrow:hover:before {color: black;}#sk-container-id-1 div.sk-estimator:hover label.sk-toggleable__label-arrow:before {color: black;}#sk-container-id-1 div.sk-toggleable__content {max-height: 0;max-width: 0;overflow: hidden;text-align: left;background-color: #f0f8ff;}#sk-container-id-1 div.sk-toggleable__content pre {margin: 0.2em;color: black;border-radius: 0.25em;background-color: #f0f8ff;}#sk-container-id-1 input.sk-toggleable__control:checked~div.sk-toggleable__content {max-height: 200px;max-width: 100%;overflow: auto;}#sk-container-id-1 input.sk-toggleable__control:checked~label.sk-toggleable__label-arrow:before {content: \"▾\";}#sk-container-id-1 div.sk-estimator input.sk-toggleable__control:checked~label.sk-toggleable__label {background-color: #d4ebff;}#sk-container-id-1 div.sk-label input.sk-toggleable__control:checked~label.sk-toggleable__label {background-color: #d4ebff;}#sk-container-id-1 input.sk-hidden--visually {border: 0;clip: rect(1px 1px 1px 1px);clip: rect(1px, 1px, 1px, 1px);height: 1px;margin: -1px;overflow: hidden;padding: 0;position: absolute;width: 1px;}#sk-container-id-1 div.sk-estimator {font-family: monospace;background-color: #f0f8ff;border: 1px dotted black;border-radius: 0.25em;box-sizing: border-box;margin-bottom: 0.5em;}#sk-container-id-1 div.sk-estimator:hover {background-color: #d4ebff;}#sk-container-id-1 div.sk-parallel-item::after {content: \"\";width: 100%;border-bottom: 1px solid gray;flex-grow: 1;}#sk-container-id-1 div.sk-label:hover label.sk-toggleable__label {background-color: #d4ebff;}#sk-container-id-1 div.sk-serial::before {content: \"\";position: absolute;border-left: 1px solid gray;box-sizing: border-box;top: 0;bottom: 0;left: 50%;z-index: 0;}#sk-container-id-1 div.sk-serial {display: flex;flex-direction: column;align-items: center;background-color: white;padding-right: 0.2em;padding-left: 0.2em;position: relative;}#sk-container-id-1 div.sk-item {position: relative;z-index: 1;}#sk-container-id-1 div.sk-parallel {display: flex;align-items: stretch;justify-content: center;background-color: white;position: relative;}#sk-container-id-1 div.sk-item::before, #sk-container-id-1 div.sk-parallel-item::before {content: \"\";position: absolute;border-left: 1px solid gray;box-sizing: border-box;top: 0;bottom: 0;left: 50%;z-index: -1;}#sk-container-id-1 div.sk-parallel-item {display: flex;flex-direction: column;z-index: 1;position: relative;background-color: white;}#sk-container-id-1 div.sk-parallel-item:first-child::after {align-self: flex-end;width: 50%;}#sk-container-id-1 div.sk-parallel-item:last-child::after {align-self: flex-start;width: 50%;}#sk-container-id-1 div.sk-parallel-item:only-child::after {width: 0;}#sk-container-id-1 div.sk-dashed-wrapped {border: 1px dashed gray;margin: 0 0.4em 0.5em 0.4em;box-sizing: border-box;padding-bottom: 0.4em;background-color: white;}#sk-container-id-1 div.sk-label label {font-family: monospace;font-weight: bold;display: inline-block;line-height: 1.2em;}#sk-container-id-1 div.sk-label-container {text-align: center;}#sk-container-id-1 div.sk-container {/* jupyter's `normalize.less` sets `[hidden] { display: none; }` but bootstrap.min.css set `[hidden] { display: none !important; }` so we also need the `!important` here to be able to override the default hidden behavior on the sphinx rendered scikit-learn.org. See: https://github.com/scikit-learn/scikit-learn/issues/21755 */display: inline-block !important;position: relative;}#sk-container-id-1 div.sk-text-repr-fallback {display: none;}</style><div id=\"sk-container-id-1\" class=\"sk-top-container\"><div class=\"sk-text-repr-fallback\"><pre>KNeighborsClassifier(n_neighbors=3)</pre><b>In a Jupyter environment, please rerun this cell to show the HTML representation or trust the notebook. <br />On GitHub, the HTML representation is unable to render, please try loading this page with nbviewer.org.</b></div><div class=\"sk-container\" hidden><div class=\"sk-item\"><div class=\"sk-estimator sk-toggleable\"><input class=\"sk-toggleable__control sk-hidden--visually\" id=\"sk-estimator-id-1\" type=\"checkbox\" checked><label for=\"sk-estimator-id-1\" class=\"sk-toggleable__label sk-toggleable__label-arrow\">KNeighborsClassifier</label><div class=\"sk-toggleable__content\"><pre>KNeighborsClassifier(n_neighbors=3)</pre></div></div></div></div></div>"
      ],
      "text/plain": [
       "KNeighborsClassifier(n_neighbors=3)"
      ]
     },
     "execution_count": 26,
     "metadata": {},
     "output_type": "execute_result"
    }
   ],
   "source": [
    "from sklearn.neighbors import KNeighborsClassifier\n",
    "\n",
    "knn = KNeighborsClassifier(n_neighbors=3)\n",
    "knn.fit(X_train, y_train)"
   ]
  },
  {
   "cell_type": "code",
   "execution_count": 27,
   "id": "b608a2db-a3c2-47ea-aedf-3ee0cec3f191",
   "metadata": {},
   "outputs": [
    {
     "name": "stdout",
     "output_type": "stream",
     "text": [
      "Accuracy of knn on test data: 0.62\n",
      "Accuracy of knn on train data: 0.81\n"
     ]
    }
   ],
   "source": [
    "from sklearn.metrics import accuracy_score, recall_score, precision_score, f1_score\n",
    "\n",
    "# Results\n",
    "accuracy_test=accuracy_score(y_test, knn.predict(X_test))\n",
    "print('Accuracy of knn on test data: {:.2}'.format(accuracy_test))\n",
    "\n",
    "accuracy_train=accuracy_score(y_train, knn.predict(X_train))\n",
    "print('Accuracy of knn on train data: {:.2}'.format(accuracy_train))"
   ]
  },
  {
   "cell_type": "markdown",
   "id": "d35f1a8f-a4cb-4766-961b-50081051ec3a",
   "metadata": {},
   "source": [
    "## Improving the KNN Model"
   ]
  },
  {
   "cell_type": "code",
   "execution_count": 28,
   "id": "f566703a-7a0f-4081-8060-3cb7356ec297",
   "metadata": {},
   "outputs": [],
   "source": [
    "from sklearn.model_selection import GridSearchCV\n",
    "import numpy as np\n",
    "\n",
    "knn_search_accuracy = KNeighborsClassifier()\n",
    "param_grid = {\"n_neighbors\": np.arange(1, 100)}\n",
    "knn_gscv = GridSearchCV(knn_search_accuracy, param_grid, cv=5, scoring='recall')\n",
    "knn_gscv.fit(X_train, y_train)\n",
    "knn_gscv.best_params_\n",
    "\n",
    "best_knn_recall = knn_gscv.best_estimator_"
   ]
  },
  {
   "cell_type": "code",
   "execution_count": 29,
   "id": "ef53f311-60e5-45ca-a7c9-fbbfb16a1318",
   "metadata": {},
   "outputs": [
    {
     "name": "stdout",
     "output_type": "stream",
     "text": [
      "Accuracy on the test data for best knn: 0.7093023255813954\n",
      "Accuracy of on train data for best knn: 0.69\n"
     ]
    }
   ],
   "source": [
    "knn_search_accuracy = KNeighborsClassifier()\n",
    "param_grid = {\"n_neighbors\": np.arange(1, 100)}\n",
    "knn_gscv = GridSearchCV(knn_search_accuracy, param_grid, cv=5)\n",
    "knn_gscv.fit(X_train, y_train)\n",
    "knn_gscv.best_params_\n",
    "\n",
    "best_knn = knn_gscv.best_estimator_"
   ]
  },
  {
   "cell_type": "code",
   "execution_count": 30,
   "id": "986f39df-8aad-4bf6-a6ba-0d5d3eaf6f5c",
   "metadata": {},
   "outputs": [
    {
     "name": "stdout",
     "output_type": "stream",
     "text": [
      "Performance on TEST\n",
      "*******************\n",
      "              precision    recall  f1-score   support\n",
      "\n",
      "       False       0.69      0.82      0.75        61\n",
      "        True       0.21      0.12      0.15        25\n",
      "\n",
      "    accuracy                           0.62        86\n",
      "   macro avg       0.45      0.47      0.45        86\n",
      "weighted avg       0.55      0.62      0.58        86\n",
      "\n",
      "Performance on TRAIN\n",
      "********************\n",
      "              precision    recall  f1-score   support\n",
      "\n",
      "       False       0.81      0.95      0.87       140\n",
      "        True       0.80      0.47      0.59        60\n",
      "\n",
      "    accuracy                           0.81       200\n",
      "   macro avg       0.80      0.71      0.73       200\n",
      "weighted avg       0.80      0.81      0.79       200\n",
      "\n",
      "Performance on best knn TEST\n",
      "*******************\n",
      "              precision    recall  f1-score   support\n",
      "\n",
      "       False       0.71      1.00      0.83        61\n",
      "        True       0.00      0.00      0.00        25\n",
      "\n",
      "    accuracy                           0.71        86\n",
      "   macro avg       0.35      0.50      0.41        86\n",
      "weighted avg       0.50      0.71      0.59        86\n",
      "\n",
      "Performance on best knn TRAIN\n",
      "********************\n",
      "              precision    recall  f1-score   support\n",
      "\n",
      "       False       0.70      0.97      0.82       140\n",
      "        True       0.43      0.05      0.09        60\n",
      "\n",
      "    accuracy                           0.69       200\n",
      "   macro avg       0.57      0.51      0.45       200\n",
      "weighted avg       0.62      0.69      0.60       200\n",
      "\n",
      "Performance on best knn recall TEST\n",
      "*******************\n",
      "              precision    recall  f1-score   support\n",
      "\n",
      "       False       0.77      0.79      0.78        61\n",
      "        True       0.46      0.44      0.45        25\n",
      "\n",
      "    accuracy                           0.69        86\n",
      "   macro avg       0.62      0.61      0.61        86\n",
      "weighted avg       0.68      0.69      0.68        86\n",
      "\n",
      "Performance on best knn recall TRAIN\n",
      "********************\n",
      "              precision    recall  f1-score   support\n",
      "\n",
      "       False       0.99      0.99      0.99       140\n",
      "        True       0.97      0.97      0.97        60\n",
      "\n",
      "    accuracy                           0.98       200\n",
      "   macro avg       0.98      0.98      0.98       200\n",
      "weighted avg       0.98      0.98      0.98       200\n",
      "\n"
     ]
    },
    {
     "name": "stderr",
     "output_type": "stream",
     "text": [
      "/usr/local/lib/python3.11/site-packages/sklearn/metrics/_classification.py:1471: UndefinedMetricWarning: Precision and F-score are ill-defined and being set to 0.0 in labels with no predicted samples. Use `zero_division` parameter to control this behavior.\n",
      "  _warn_prf(average, modifier, msg_start, len(result))\n",
      "/usr/local/lib/python3.11/site-packages/sklearn/metrics/_classification.py:1471: UndefinedMetricWarning: Precision and F-score are ill-defined and being set to 0.0 in labels with no predicted samples. Use `zero_division` parameter to control this behavior.\n",
      "  _warn_prf(average, modifier, msg_start, len(result))\n",
      "/usr/local/lib/python3.11/site-packages/sklearn/metrics/_classification.py:1471: UndefinedMetricWarning: Precision and F-score are ill-defined and being set to 0.0 in labels with no predicted samples. Use `zero_division` parameter to control this behavior.\n",
      "  _warn_prf(average, modifier, msg_start, len(result))\n"
     ]
    }
   ],
   "source": [
    "from sklearn.metrics import classification_report\n",
    "\n",
    "print(f\"Performance on TEST\\n*******************\\n{classification_report(y_test, knn.predict(X_test))}\")\n",
    "print(f\"Performance on TRAIN\\n********************\\n{classification_report(y_train, knn.predict(X_train))}\")\n",
    "\n",
    "print(f\"Performance on best knn TEST\\n*******************\\n{classification_report(y_test, best_knn.predict(X_test))}\")\n",
    "print(f\"Performance on best knn TRAIN\\n********************\\n{classification_report(y_train, best_knn.predict(X_train))}\")\n",
    "\n",
    "print(f\"Performance on best knn recall TEST\\n*******************\\n{classification_report(y_test, best_knn_recall.predict(X_test))}\")\n",
    "print(f\"Performance on best knn recall TRAIN\\n********************\\n{classification_report(y_train, best_knn_recall.predict(X_train))}\")"
   ]
  },
  {
   "cell_type": "markdown",
   "id": "1d3684d3-ec62-4e71-b4d8-42d45c1004c8",
   "metadata": {},
   "source": [
    "## Model 2: Decision Tree"
   ]
  },
  {
   "cell_type": "code",
   "execution_count": 31,
   "id": "39222764-303d-44ae-bc1d-1cd04ce91da1",
   "metadata": {},
   "outputs": [],
   "source": [
    "from sklearn.tree import DecisionTreeClassifier\n",
    "\n",
    "model = DecisionTreeClassifier(random_state=1).fit(X_train, y_train)"
   ]
  },
  {
   "cell_type": "code",
   "execution_count": 32,
   "id": "56950446-3d34-4115-80af-b952a11a7865",
   "metadata": {},
   "outputs": [
    {
     "name": "stdout",
     "output_type": "stream",
     "text": [
      "Performance on TEST\n",
      "*******************\n",
      "              precision    recall  f1-score   support\n",
      "\n",
      "       False       0.75      0.79      0.77        61\n",
      "        True       0.41      0.36      0.38        25\n",
      "\n",
      "    accuracy                           0.66        86\n",
      "   macro avg       0.58      0.57      0.58        86\n",
      "weighted avg       0.65      0.66      0.66        86\n",
      "\n",
      "Performance on TRAIN\n",
      "********************\n",
      "              precision    recall  f1-score   support\n",
      "\n",
      "       False       0.97      1.00      0.99       140\n",
      "        True       1.00      0.93      0.97        60\n",
      "\n",
      "    accuracy                           0.98       200\n",
      "   macro avg       0.99      0.97      0.98       200\n",
      "weighted avg       0.98      0.98      0.98       200\n",
      "\n"
     ]
    }
   ],
   "source": [
    "print(f\"Performance on TEST\\n*******************\\n{classification_report(y_test, model.predict(X_test))}\")\n",
    "print(f\"Performance on TRAIN\\n********************\\n{classification_report(y_train, model.predict(X_train))}\")\n"
   ]
  },
  {
   "cell_type": "code",
   "execution_count": 33,
   "id": "881f3fe2-a773-4028-97ac-f00c0a6c005e",
   "metadata": {},
   "outputs": [
    {
     "data": {
      "text/plain": [
       "[Text(0.5499074835526315, 0.96875, 'x[2] <= 1.5\\ngini = 0.42\\nsamples = 200\\nvalue = [140, 60]'),\n",
       " Text(0.2774465460526316, 0.90625, 'x[1] <= 17.5\\ngini = 0.339\\nsamples = 148\\nvalue = [116, 32]'),\n",
       " Text(0.02631578947368421, 0.84375, 'x[5] <= 0.5\\ngini = 0.122\\nsamples = 46\\nvalue = [43, 3]'),\n",
       " Text(0.013157894736842105, 0.78125, 'gini = 0.0\\nsamples = 26\\nvalue = [26, 0]'),\n",
       " Text(0.039473684210526314, 0.78125, 'x[1] <= 12.5\\ngini = 0.255\\nsamples = 20\\nvalue = [17, 3]'),\n",
       " Text(0.02631578947368421, 0.71875, 'gini = 0.0\\nsamples = 13\\nvalue = [13, 0]'),\n",
       " Text(0.05263157894736842, 0.71875, 'x[8] <= 0.5\\ngini = 0.49\\nsamples = 7\\nvalue = [4, 3]'),\n",
       " Text(0.039473684210526314, 0.65625, 'gini = 0.0\\nsamples = 1\\nvalue = [0, 1]'),\n",
       " Text(0.06578947368421052, 0.65625, 'x[0] <= 35.0\\ngini = 0.444\\nsamples = 6\\nvalue = [4, 2]'),\n",
       " Text(0.039473684210526314, 0.59375, 'x[7] <= 0.5\\ngini = 0.5\\nsamples = 2\\nvalue = [1, 1]'),\n",
       " Text(0.02631578947368421, 0.53125, 'gini = 0.0\\nsamples = 1\\nvalue = [1, 0]'),\n",
       " Text(0.05263157894736842, 0.53125, 'gini = 0.0\\nsamples = 1\\nvalue = [0, 1]'),\n",
       " Text(0.09210526315789473, 0.59375, 'x[0] <= 45.0\\ngini = 0.375\\nsamples = 4\\nvalue = [3, 1]'),\n",
       " Text(0.07894736842105263, 0.53125, 'gini = 0.0\\nsamples = 1\\nvalue = [1, 0]'),\n",
       " Text(0.10526315789473684, 0.53125, 'x[7] <= 0.5\\ngini = 0.444\\nsamples = 3\\nvalue = [2, 1]'),\n",
       " Text(0.09210526315789473, 0.46875, 'x[3] <= 1.5\\ngini = 0.5\\nsamples = 2\\nvalue = [1, 1]'),\n",
       " Text(0.07894736842105263, 0.40625, 'gini = 0.0\\nsamples = 1\\nvalue = [1, 0]'),\n",
       " Text(0.10526315789473684, 0.40625, 'gini = 0.0\\nsamples = 1\\nvalue = [0, 1]'),\n",
       " Text(0.11842105263157894, 0.46875, 'gini = 0.0\\nsamples = 1\\nvalue = [1, 0]'),\n",
       " Text(0.528577302631579, 0.84375, 'x[12] <= 0.5\\ngini = 0.407\\nsamples = 102\\nvalue = [73, 29]'),\n",
       " Text(0.4387335526315789, 0.78125, 'x[10] <= 0.5\\ngini = 0.372\\nsamples = 89\\nvalue = [67, 22]'),\n",
       " Text(0.42557565789473684, 0.71875, 'x[0] <= 55.0\\ngini = 0.393\\nsamples = 82\\nvalue = [60, 22]'),\n",
       " Text(0.3511513157894737, 0.65625, 'x[7] <= 0.5\\ngini = 0.422\\nsamples = 66\\nvalue = [46, 20]'),\n",
       " Text(0.24177631578947367, 0.59375, 'x[4] <= 0.5\\ngini = 0.45\\nsamples = 41\\nvalue = [27, 14]'),\n",
       " Text(0.22861842105263158, 0.53125, 'x[1] <= 27.5\\ngini = 0.439\\nsamples = 40\\nvalue = [27, 13]'),\n",
       " Text(0.16776315789473684, 0.46875, 'x[11] <= 0.5\\ngini = 0.363\\nsamples = 21\\nvalue = [16, 5]'),\n",
       " Text(0.13157894736842105, 0.40625, 'x[9] <= 0.5\\ngini = 0.278\\nsamples = 18\\nvalue = [15, 3]'),\n",
       " Text(0.09868421052631579, 0.34375, 'x[1] <= 22.5\\ngini = 0.165\\nsamples = 11\\nvalue = [10, 1]'),\n",
       " Text(0.08552631578947369, 0.28125, 'x[3] <= 2.5\\ngini = 0.278\\nsamples = 6\\nvalue = [5, 1]'),\n",
       " Text(0.07236842105263158, 0.21875, 'x[0] <= 45.0\\ngini = 0.375\\nsamples = 4\\nvalue = [3, 1]'),\n",
       " Text(0.05921052631578947, 0.15625, 'x[8] <= 0.5\\ngini = 0.444\\nsamples = 3\\nvalue = [2, 1]'),\n",
       " Text(0.046052631578947366, 0.09375, 'gini = 0.0\\nsamples = 1\\nvalue = [1, 0]'),\n",
       " Text(0.07236842105263158, 0.09375, 'gini = 0.5\\nsamples = 2\\nvalue = [1, 1]'),\n",
       " Text(0.08552631578947369, 0.15625, 'gini = 0.0\\nsamples = 1\\nvalue = [1, 0]'),\n",
       " Text(0.09868421052631579, 0.21875, 'gini = 0.0\\nsamples = 2\\nvalue = [2, 0]'),\n",
       " Text(0.1118421052631579, 0.28125, 'gini = 0.0\\nsamples = 5\\nvalue = [5, 0]'),\n",
       " Text(0.16447368421052633, 0.34375, 'x[6] <= 0.5\\ngini = 0.408\\nsamples = 7\\nvalue = [5, 2]'),\n",
       " Text(0.1513157894736842, 0.28125, 'x[1] <= 22.5\\ngini = 0.444\\nsamples = 6\\nvalue = [4, 2]'),\n",
       " Text(0.125, 0.21875, 'x[3] <= 2.5\\ngini = 0.375\\nsamples = 4\\nvalue = [3, 1]'),\n",
       " Text(0.1118421052631579, 0.15625, 'x[5] <= 0.5\\ngini = 0.5\\nsamples = 2\\nvalue = [1, 1]'),\n",
       " Text(0.09868421052631579, 0.09375, 'gini = 0.0\\nsamples = 1\\nvalue = [0, 1]'),\n",
       " Text(0.125, 0.09375, 'gini = 0.0\\nsamples = 1\\nvalue = [1, 0]'),\n",
       " Text(0.13815789473684212, 0.15625, 'gini = 0.0\\nsamples = 2\\nvalue = [2, 0]'),\n",
       " Text(0.17763157894736842, 0.21875, 'x[3] <= 2.5\\ngini = 0.5\\nsamples = 2\\nvalue = [1, 1]'),\n",
       " Text(0.16447368421052633, 0.15625, 'gini = 0.0\\nsamples = 1\\nvalue = [1, 0]'),\n",
       " Text(0.19078947368421054, 0.15625, 'gini = 0.0\\nsamples = 1\\nvalue = [0, 1]'),\n",
       " Text(0.17763157894736842, 0.28125, 'gini = 0.0\\nsamples = 1\\nvalue = [1, 0]'),\n",
       " Text(0.20394736842105263, 0.40625, 'x[5] <= 0.5\\ngini = 0.444\\nsamples = 3\\nvalue = [1, 2]'),\n",
       " Text(0.19078947368421054, 0.34375, 'gini = 0.0\\nsamples = 1\\nvalue = [1, 0]'),\n",
       " Text(0.21710526315789475, 0.34375, 'gini = 0.0\\nsamples = 2\\nvalue = [0, 2]'),\n",
       " Text(0.2894736842105263, 0.46875, 'x[0] <= 35.0\\ngini = 0.488\\nsamples = 19\\nvalue = [11, 8]'),\n",
       " Text(0.2565789473684211, 0.40625, 'x[1] <= 32.5\\ngini = 0.444\\nsamples = 6\\nvalue = [2, 4]'),\n",
       " Text(0.24342105263157895, 0.34375, 'x[3] <= 2.5\\ngini = 0.444\\nsamples = 3\\nvalue = [2, 1]'),\n",
       " Text(0.23026315789473684, 0.28125, 'gini = 0.5\\nsamples = 2\\nvalue = [1, 1]'),\n",
       " Text(0.2565789473684211, 0.28125, 'gini = 0.0\\nsamples = 1\\nvalue = [1, 0]'),\n",
       " Text(0.26973684210526316, 0.34375, 'gini = 0.0\\nsamples = 3\\nvalue = [0, 3]'),\n",
       " Text(0.3223684210526316, 0.40625, 'x[9] <= 0.5\\ngini = 0.426\\nsamples = 13\\nvalue = [9, 4]'),\n",
       " Text(0.3092105263157895, 0.34375, 'x[1] <= 32.5\\ngini = 0.48\\nsamples = 10\\nvalue = [6, 4]'),\n",
       " Text(0.28289473684210525, 0.28125, 'x[3] <= 2.0\\ngini = 0.444\\nsamples = 3\\nvalue = [1, 2]'),\n",
       " Text(0.26973684210526316, 0.21875, 'gini = 0.0\\nsamples = 1\\nvalue = [1, 0]'),\n",
       " Text(0.29605263157894735, 0.21875, 'gini = 0.0\\nsamples = 2\\nvalue = [0, 2]'),\n",
       " Text(0.3355263157894737, 0.28125, 'x[3] <= 2.5\\ngini = 0.408\\nsamples = 7\\nvalue = [5, 2]'),\n",
       " Text(0.3223684210526316, 0.21875, 'x[1] <= 45.0\\ngini = 0.48\\nsamples = 5\\nvalue = [3, 2]'),\n",
       " Text(0.3092105263157895, 0.15625, 'x[0] <= 45.0\\ngini = 0.5\\nsamples = 4\\nvalue = [2, 2]'),\n",
       " Text(0.28289473684210525, 0.09375, 'x[1] <= 37.5\\ngini = 0.5\\nsamples = 2\\nvalue = [1, 1]'),\n",
       " Text(0.26973684210526316, 0.03125, 'gini = 0.0\\nsamples = 1\\nvalue = [1, 0]'),\n",
       " Text(0.29605263157894735, 0.03125, 'gini = 0.0\\nsamples = 1\\nvalue = [0, 1]'),\n",
       " Text(0.3355263157894737, 0.09375, 'x[1] <= 37.5\\ngini = 0.5\\nsamples = 2\\nvalue = [1, 1]'),\n",
       " Text(0.3223684210526316, 0.03125, 'gini = 0.0\\nsamples = 1\\nvalue = [0, 1]'),\n",
       " Text(0.34868421052631576, 0.03125, 'gini = 0.0\\nsamples = 1\\nvalue = [1, 0]'),\n",
       " Text(0.3355263157894737, 0.15625, 'gini = 0.0\\nsamples = 1\\nvalue = [1, 0]'),\n",
       " Text(0.34868421052631576, 0.21875, 'gini = 0.0\\nsamples = 2\\nvalue = [2, 0]'),\n",
       " Text(0.3355263157894737, 0.34375, 'gini = 0.0\\nsamples = 3\\nvalue = [3, 0]'),\n",
       " Text(0.25493421052631576, 0.53125, 'gini = 0.0\\nsamples = 1\\nvalue = [0, 1]'),\n",
       " Text(0.4605263157894737, 0.59375, 'x[6] <= 0.5\\ngini = 0.365\\nsamples = 25\\nvalue = [19, 6]'),\n",
       " Text(0.4473684210526316, 0.53125, 'x[3] <= 2.5\\ngini = 0.33\\nsamples = 24\\nvalue = [19, 5]'),\n",
       " Text(0.4342105263157895, 0.46875, 'x[11] <= 0.5\\ngini = 0.375\\nsamples = 20\\nvalue = [15, 5]'),\n",
       " Text(0.42105263157894735, 0.40625, 'x[8] <= 0.5\\ngini = 0.43\\nsamples = 16\\nvalue = [11, 5]'),\n",
       " Text(0.3881578947368421, 0.34375, 'x[9] <= 0.5\\ngini = 0.48\\nsamples = 10\\nvalue = [6, 4]'),\n",
       " Text(0.375, 0.28125, 'gini = 0.0\\nsamples = 1\\nvalue = [0, 1]'),\n",
       " Text(0.40131578947368424, 0.28125, 'x[3] <= 1.5\\ngini = 0.444\\nsamples = 9\\nvalue = [6, 3]'),\n",
       " Text(0.375, 0.21875, 'x[1] <= 30.0\\ngini = 0.444\\nsamples = 3\\nvalue = [1, 2]'),\n",
       " Text(0.3618421052631579, 0.15625, 'gini = 0.5\\nsamples = 2\\nvalue = [1, 1]'),\n",
       " Text(0.3881578947368421, 0.15625, 'gini = 0.0\\nsamples = 1\\nvalue = [0, 1]'),\n",
       " Text(0.4276315789473684, 0.21875, 'x[5] <= 0.5\\ngini = 0.278\\nsamples = 6\\nvalue = [5, 1]'),\n",
       " Text(0.4144736842105263, 0.15625, 'x[0] <= 45.0\\ngini = 0.444\\nsamples = 3\\nvalue = [2, 1]'),\n",
       " Text(0.40131578947368424, 0.09375, 'gini = 0.0\\nsamples = 1\\nvalue = [0, 1]'),\n",
       " Text(0.4276315789473684, 0.09375, 'gini = 0.0\\nsamples = 2\\nvalue = [2, 0]'),\n",
       " Text(0.4407894736842105, 0.15625, 'gini = 0.0\\nsamples = 3\\nvalue = [3, 0]'),\n",
       " Text(0.45394736842105265, 0.34375, 'x[3] <= 1.5\\ngini = 0.278\\nsamples = 6\\nvalue = [5, 1]'),\n",
       " Text(0.4407894736842105, 0.28125, 'gini = 0.0\\nsamples = 2\\nvalue = [2, 0]'),\n",
       " Text(0.46710526315789475, 0.28125, 'x[0] <= 35.0\\ngini = 0.375\\nsamples = 4\\nvalue = [3, 1]'),\n",
       " Text(0.45394736842105265, 0.21875, 'gini = 0.0\\nsamples = 1\\nvalue = [1, 0]'),\n",
       " Text(0.48026315789473684, 0.21875, 'x[1] <= 32.5\\ngini = 0.444\\nsamples = 3\\nvalue = [2, 1]'),\n",
       " Text(0.46710526315789475, 0.15625, 'gini = 0.5\\nsamples = 2\\nvalue = [1, 1]'),\n",
       " Text(0.4934210526315789, 0.15625, 'gini = 0.0\\nsamples = 1\\nvalue = [1, 0]'),\n",
       " Text(0.4473684210526316, 0.40625, 'gini = 0.0\\nsamples = 4\\nvalue = [4, 0]'),\n",
       " Text(0.4605263157894737, 0.46875, 'gini = 0.0\\nsamples = 4\\nvalue = [4, 0]'),\n",
       " Text(0.47368421052631576, 0.53125, 'gini = 0.0\\nsamples = 1\\nvalue = [0, 1]'),\n",
       " Text(0.5, 0.65625, 'x[3] <= 2.5\\ngini = 0.219\\nsamples = 16\\nvalue = [14, 2]'),\n",
       " Text(0.4868421052631579, 0.59375, 'gini = 0.0\\nsamples = 12\\nvalue = [12, 0]'),\n",
       " Text(0.5131578947368421, 0.59375, 'x[0] <= 65.0\\ngini = 0.5\\nsamples = 4\\nvalue = [2, 2]'),\n",
       " Text(0.5, 0.53125, 'x[9] <= 0.5\\ngini = 0.444\\nsamples = 3\\nvalue = [1, 2]'),\n",
       " Text(0.4868421052631579, 0.46875, 'x[1] <= 22.5\\ngini = 0.5\\nsamples = 2\\nvalue = [1, 1]'),\n",
       " Text(0.47368421052631576, 0.40625, 'gini = 0.0\\nsamples = 1\\nvalue = [0, 1]'),\n",
       " Text(0.5, 0.40625, 'gini = 0.0\\nsamples = 1\\nvalue = [1, 0]'),\n",
       " Text(0.5131578947368421, 0.46875, 'gini = 0.0\\nsamples = 1\\nvalue = [0, 1]'),\n",
       " Text(0.5263157894736842, 0.53125, 'gini = 0.0\\nsamples = 1\\nvalue = [1, 0]'),\n",
       " Text(0.4518914473684211, 0.71875, 'gini = 0.0\\nsamples = 7\\nvalue = [7, 0]'),\n",
       " Text(0.618421052631579, 0.78125, 'x[1] <= 32.5\\ngini = 0.497\\nsamples = 13\\nvalue = [6, 7]'),\n",
       " Text(0.5921052631578947, 0.71875, 'x[0] <= 50.0\\ngini = 0.444\\nsamples = 9\\nvalue = [3, 6]'),\n",
       " Text(0.5789473684210527, 0.65625, 'x[8] <= 0.5\\ngini = 0.5\\nsamples = 6\\nvalue = [3, 3]'),\n",
       " Text(0.5657894736842105, 0.59375, 'x[0] <= 35.0\\ngini = 0.375\\nsamples = 4\\nvalue = [3, 1]'),\n",
       " Text(0.5526315789473685, 0.53125, 'gini = 0.0\\nsamples = 1\\nvalue = [0, 1]'),\n",
       " Text(0.5789473684210527, 0.53125, 'gini = 0.0\\nsamples = 3\\nvalue = [3, 0]'),\n",
       " Text(0.5921052631578947, 0.59375, 'gini = 0.0\\nsamples = 2\\nvalue = [0, 2]'),\n",
       " Text(0.6052631578947368, 0.65625, 'gini = 0.0\\nsamples = 3\\nvalue = [0, 3]'),\n",
       " Text(0.6447368421052632, 0.71875, 'x[1] <= 47.5\\ngini = 0.375\\nsamples = 4\\nvalue = [3, 1]'),\n",
       " Text(0.631578947368421, 0.65625, 'gini = 0.0\\nsamples = 2\\nvalue = [2, 0]'),\n",
       " Text(0.6578947368421053, 0.65625, 'x[8] <= 0.5\\ngini = 0.5\\nsamples = 2\\nvalue = [1, 1]'),\n",
       " Text(0.6447368421052632, 0.59375, 'gini = 0.0\\nsamples = 1\\nvalue = [1, 0]'),\n",
       " Text(0.6710526315789473, 0.59375, 'gini = 0.0\\nsamples = 1\\nvalue = [0, 1]'),\n",
       " Text(0.8223684210526315, 0.90625, 'x[7] <= 0.5\\ngini = 0.497\\nsamples = 52\\nvalue = [24, 28]'),\n",
       " Text(0.7236842105263158, 0.84375, 'x[0] <= 45.0\\ngini = 0.426\\nsamples = 26\\nvalue = [8, 18]'),\n",
       " Text(0.7105263157894737, 0.78125, 'gini = 0.0\\nsamples = 11\\nvalue = [0, 11]'),\n",
       " Text(0.7368421052631579, 0.78125, 'x[12] <= 0.5\\ngini = 0.498\\nsamples = 15\\nvalue = [8, 7]'),\n",
       " Text(0.6973684210526315, 0.71875, 'x[2] <= 4.5\\ngini = 0.278\\nsamples = 6\\nvalue = [5, 1]'),\n",
       " Text(0.6842105263157895, 0.65625, 'gini = 0.0\\nsamples = 3\\nvalue = [3, 0]'),\n",
       " Text(0.7105263157894737, 0.65625, 'x[2] <= 10.5\\ngini = 0.444\\nsamples = 3\\nvalue = [2, 1]'),\n",
       " Text(0.6973684210526315, 0.59375, 'x[8] <= 0.5\\ngini = 0.5\\nsamples = 2\\nvalue = [1, 1]'),\n",
       " Text(0.6842105263157895, 0.53125, 'gini = 0.0\\nsamples = 1\\nvalue = [1, 0]'),\n",
       " Text(0.7105263157894737, 0.53125, 'gini = 0.0\\nsamples = 1\\nvalue = [0, 1]'),\n",
       " Text(0.7236842105263158, 0.59375, 'gini = 0.0\\nsamples = 1\\nvalue = [1, 0]'),\n",
       " Text(0.7763157894736842, 0.71875, 'x[2] <= 7.5\\ngini = 0.444\\nsamples = 9\\nvalue = [3, 6]'),\n",
       " Text(0.7631578947368421, 0.65625, 'x[5] <= 0.5\\ngini = 0.245\\nsamples = 7\\nvalue = [1, 6]'),\n",
       " Text(0.75, 0.59375, 'gini = 0.0\\nsamples = 5\\nvalue = [0, 5]'),\n",
       " Text(0.7763157894736842, 0.59375, 'x[3] <= 2.5\\ngini = 0.5\\nsamples = 2\\nvalue = [1, 1]'),\n",
       " Text(0.7631578947368421, 0.53125, 'gini = 0.0\\nsamples = 1\\nvalue = [1, 0]'),\n",
       " Text(0.7894736842105263, 0.53125, 'gini = 0.0\\nsamples = 1\\nvalue = [0, 1]'),\n",
       " Text(0.7894736842105263, 0.65625, 'gini = 0.0\\nsamples = 2\\nvalue = [2, 0]'),\n",
       " Text(0.9210526315789473, 0.84375, 'x[12] <= 0.5\\ngini = 0.473\\nsamples = 26\\nvalue = [16, 10]'),\n",
       " Text(0.868421052631579, 0.78125, 'x[3] <= 2.5\\ngini = 0.498\\nsamples = 15\\nvalue = [7, 8]'),\n",
       " Text(0.8289473684210527, 0.71875, 'x[1] <= 22.5\\ngini = 0.444\\nsamples = 9\\nvalue = [6, 3]'),\n",
       " Text(0.8157894736842105, 0.65625, 'gini = 0.0\\nsamples = 4\\nvalue = [4, 0]'),\n",
       " Text(0.8421052631578947, 0.65625, 'x[9] <= 0.5\\ngini = 0.48\\nsamples = 5\\nvalue = [2, 3]'),\n",
       " Text(0.8289473684210527, 0.59375, 'x[1] <= 27.5\\ngini = 0.444\\nsamples = 3\\nvalue = [2, 1]'),\n",
       " Text(0.8157894736842105, 0.53125, 'gini = 0.0\\nsamples = 1\\nvalue = [0, 1]'),\n",
       " Text(0.8421052631578947, 0.53125, 'gini = 0.0\\nsamples = 2\\nvalue = [2, 0]'),\n",
       " Text(0.8552631578947368, 0.59375, 'gini = 0.0\\nsamples = 2\\nvalue = [0, 2]'),\n",
       " Text(0.9078947368421053, 0.71875, 'x[1] <= 27.5\\ngini = 0.278\\nsamples = 6\\nvalue = [1, 5]'),\n",
       " Text(0.8947368421052632, 0.65625, 'x[0] <= 45.0\\ngini = 0.444\\nsamples = 3\\nvalue = [1, 2]'),\n",
       " Text(0.881578947368421, 0.59375, 'gini = 0.0\\nsamples = 1\\nvalue = [0, 1]'),\n",
       " Text(0.9078947368421053, 0.59375, 'x[1] <= 22.5\\ngini = 0.5\\nsamples = 2\\nvalue = [1, 1]'),\n",
       " Text(0.8947368421052632, 0.53125, 'gini = 0.0\\nsamples = 1\\nvalue = [0, 1]'),\n",
       " Text(0.9210526315789473, 0.53125, 'gini = 0.0\\nsamples = 1\\nvalue = [1, 0]'),\n",
       " Text(0.9210526315789473, 0.65625, 'gini = 0.0\\nsamples = 3\\nvalue = [0, 3]'),\n",
       " Text(0.9736842105263158, 0.78125, 'x[0] <= 35.0\\ngini = 0.298\\nsamples = 11\\nvalue = [9, 2]'),\n",
       " Text(0.9605263157894737, 0.71875, 'x[2] <= 7.5\\ngini = 0.5\\nsamples = 4\\nvalue = [2, 2]'),\n",
       " Text(0.9473684210526315, 0.65625, 'x[9] <= 0.5\\ngini = 0.444\\nsamples = 3\\nvalue = [2, 1]'),\n",
       " Text(0.9342105263157895, 0.59375, 'gini = 0.0\\nsamples = 1\\nvalue = [1, 0]'),\n",
       " Text(0.9605263157894737, 0.59375, 'x[2] <= 4.5\\ngini = 0.5\\nsamples = 2\\nvalue = [1, 1]'),\n",
       " Text(0.9473684210526315, 0.53125, 'gini = 0.0\\nsamples = 1\\nvalue = [0, 1]'),\n",
       " Text(0.9736842105263158, 0.53125, 'gini = 0.0\\nsamples = 1\\nvalue = [1, 0]'),\n",
       " Text(0.9736842105263158, 0.65625, 'gini = 0.0\\nsamples = 1\\nvalue = [0, 1]'),\n",
       " Text(0.9868421052631579, 0.71875, 'gini = 0.0\\nsamples = 7\\nvalue = [7, 0]')]"
      ]
     },
     "execution_count": 33,
     "metadata": {},
     "output_type": "execute_result"
    },
    {
     "data": {
      "image/png": "[encoded data removed]",
      "text/plain": [
       "<Figure size 640x480 with 1 Axes>"
      ]
     },
     "metadata": {},
     "output_type": "display_data"
    }
   ],
   "source": [
    "from sklearn import tree\n",
    "tree.plot_tree(model)\n"
   ]
  },
  {
   "cell_type": "markdown",
   "id": "90e952f1-a692-457e-bf61-0fe7511f8077",
   "metadata": {},
   "source": [
    "## Model 3: Random Forest Classifier"
   ]
  },
  {
   "cell_type": "code",
   "execution_count": null,
   "id": "9de067e8-5683-427a-b138-d838ebdbbca6",
   "metadata": {},
   "outputs": [],
   "source": [
    "from sklearn.ensemble import RandomForestClassifier\n",
    "model = RandomForestClassifier()\n",
    "param_grid = {\n",
    "   \"n_estimators\": np.arange(start=10, stop=100, step=2),\n",
    "   \"max_depth\": np.arange(start=2, stop=20),\n",
    "   \"min_samples_leaf\": np.arange(start=1, stop=5),\n",
    "   \"class_weight\": [{0: 0.1, 1: 0.9}, {0: 0.2, 1: 0.8}, {0: 0.3, 1: 0.7}],\n",
    "}\n",
    "\n",
    "# Using GridSearchCV once again to try and get the best metrics\n",
    "gscv = GridSearchCV(model, param_grid, cv=5, n_jobs=-1, scoring=\"recall\")\n",
    "gscv.fit(X_train, y_train)\n",
    "gscv.best_params_"
   ]
  },
  {
   "cell_type": "code",
   "execution_count": 35,
   "id": "814f0cc4-c7c2-4c99-a742-fd0fc709f73e",
   "metadata": {},
   "outputs": [
    {
     "name": "stdout",
     "output_type": "stream",
     "text": [
      "Performance on random forest TEST\n",
      "*******************\n",
      "              precision    recall  f1-score   support\n",
      "\n",
      "       False       0.92      0.18      0.30        61\n",
      "        True       0.32      0.96      0.48        25\n",
      "\n",
      "    accuracy                           0.41        86\n",
      "   macro avg       0.62      0.57      0.39        86\n",
      "weighted avg       0.74      0.41      0.35        86\n",
      "\n",
      "Performance on random forest TRAIN\n",
      "********************\n",
      "              precision    recall  f1-score   support\n",
      "\n",
      "       False       1.00      0.15      0.26       140\n",
      "        True       0.34      1.00      0.50        60\n",
      "\n",
      "    accuracy                           0.41       200\n",
      "   macro avg       0.67      0.57      0.38       200\n",
      "weighted avg       0.80      0.41      0.33       200\n",
      "\n"
     ]
    }
   ],
   "source": [
    "model = gscv.best_estimator_\n",
    "\n",
    "print(f\"Performance on random forest TEST\\n*******************\\n{classification_report(y_test, model.predict(X_test))}\")\n",
    "print(f\"Performance on random forest TRAIN\\n********************\\n{classification_report(y_train, model.predict(X_train))}\")"
   ]
  }
 ],
 "metadata": {
  "kernelspec": {
   "display_name": "Python 3 (ipykernel)",
   "language": "python",
   "name": "python3"
  },
  "language_info": {
   "codemirror_mode": {
    "name": "ipython",
    "version": 3
   },
   "file_extension": ".py",
   "mimetype": "text/x-python",
   "name": "python",
   "nbconvert_exporter": "python",
   "pygments_lexer": "ipython3",
   "version": "3.11.1"
  }
 },
 "nbformat": 4,
 "nbformat_minor": 5
}
